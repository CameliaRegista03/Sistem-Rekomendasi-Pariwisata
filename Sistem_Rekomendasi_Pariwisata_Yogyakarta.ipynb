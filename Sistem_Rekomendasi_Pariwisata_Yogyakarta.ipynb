{
  "cells": [
    {
      "cell_type": "markdown",
      "metadata": {
        "id": "view-in-github",
        "colab_type": "text"
      },
      "source": [
        "<a href=\"https://colab.research.google.com/github/CameliaRegista03/Sistem-Rekomendasi-Pariwisata/blob/main/Sistem_Rekomendasi_Pariwisata_Yogyakarta.ipynb\" target=\"_parent\"><img src=\"https://colab.research.google.com/assets/colab-badge.svg\" alt=\"Open In Colab\"/></a>"
      ]
    },
    {
      "cell_type": "markdown",
      "metadata": {
        "id": "_d0nM3_o8Dsq"
      },
      "source": [
        "# **IMPORT PACKAGES**"
      ]
    },
    {
      "cell_type": "code",
      "execution_count": null,
      "metadata": {
        "id": "6KxrHQgf2Ojt"
      },
      "outputs": [],
      "source": [
        "#Import Library\n",
        "import pandas as pd\n",
        "import numpy as np\n",
        "import matplotlib.pyplot as plt\n",
        "import seaborn as sns"
      ]
    },
    {
      "cell_type": "markdown",
      "metadata": {
        "id": "D4Q7Qk-V8Hn5"
      },
      "source": [
        "# **DATA COLLECTING**"
      ]
    },
    {
      "cell_type": "code",
      "execution_count": null,
      "metadata": {
        "colab": {
          "base_uri": "https://localhost:8080/"
        },
        "id": "KjQvacX420p3",
        "outputId": "def51aba-c657-4acf-d921-72612e940cc5"
      },
      "outputs": [
        {
          "output_type": "stream",
          "name": "stdout",
          "text": [
            "Jumlah Kategori tempat wisata :  6\n",
            "Jumlah Kota tempat wisata :  5\n",
            "Jumlah Tempat wisata :  437\n",
            "Jumlah Range rating tempat wisata :  14\n",
            "Jumlah kota asal pengunjung :  28\n",
            "Ada berapa banyak data usia :  23\n",
            "Jumlah data penilaian yang diberikan pengguna :  300\n",
            "Jumlah data penilaian tempat wisata :  437\n"
          ]
        }
      ],
      "source": [
        "#Load Data \n",
        "\n",
        "#Load Data Tempat Wisata\n",
        "wisata = pd.read_csv('tourism_with_id.csv')\n",
        "\n",
        "#Load Data User\n",
        "profile = pd.read_csv('user.csv')\n",
        "\n",
        "#Load Data Rating \n",
        "rating = pd.read_csv('tourism_rating.csv')\n",
        "\n",
        "#Informasi pada file tempat wisata\n",
        "print('Jumlah Kategori tempat wisata : ', len(wisata.Category.unique()))\n",
        "print('Jumlah Kota tempat wisata : ', len(wisata.City.unique()))\n",
        "print('Jumlah Tempat wisata : ', len(wisata.Place_Name.unique()))\n",
        "print('Jumlah Range rating tempat wisata : ', len(wisata.Rating.unique()))\n",
        "\n",
        "#Informasi pada  file user\n",
        "print('Jumlah kota asal pengunjung : ', len(profile.Location.unique()))\n",
        "print('Ada berapa banyak data usia : ', len(profile.Age.unique()))\n",
        "\n",
        "#Informasi pada data rating\n",
        "print('Jumlah data penilaian yang diberikan pengguna : ', len(rating.User_Id.unique()))\n",
        "print('Jumlah data penilaian tempat wisata : ', len(rating.Place_Id.unique()))"
      ]
    },
    {
      "cell_type": "markdown",
      "metadata": {
        "id": "E5uYAumQ74JH"
      },
      "source": [
        "# **DATA UNDERSTANDING**"
      ]
    },
    {
      "cell_type": "markdown",
      "source": [
        "Univariate Analysis"
      ],
      "metadata": {
        "id": "3Vl3RUnwYUoF"
      }
    },
    {
      "cell_type": "code",
      "execution_count": null,
      "metadata": {
        "colab": {
          "base_uri": "https://localhost:8080/",
          "height": 371
        },
        "id": "kzhl66Te8A97",
        "outputId": "66c7a1b6-3cff-4f6d-8268-b2379164c5c5"
      },
      "outputs": [
        {
          "output_type": "execute_result",
          "data": {
            "text/plain": [
              "<matplotlib.axes._subplots.AxesSubplot at 0x7efbdbab8450>"
            ]
          },
          "metadata": {},
          "execution_count": 117
        },
        {
          "output_type": "display_data",
          "data": {
            "image/png": "[encoded data removed]",
            "text/plain": [
              "<Figure size 432x288 with 1 Axes>"
            ]
          },
          "metadata": {
            "needs_background": "light"
          }
        }
      ],
      "source": [
        "#Tampilkan kategori tempat wisata ada apa saja \n",
        "wisata['Category'].value_counts().plot(kind='bar')"
      ]
    },
    {
      "cell_type": "code",
      "execution_count": null,
      "metadata": {
        "colab": {
          "base_uri": "https://localhost:8080/",
          "height": 328
        },
        "id": "dy1vaYOs9sX8",
        "outputId": "e18a7005-b2b7-4970-a053-e2dd31a69f5c"
      },
      "outputs": [
        {
          "output_type": "execute_result",
          "data": {
            "text/plain": [
              "<matplotlib.axes._subplots.AxesSubplot at 0x7efbe20c8250>"
            ]
          },
          "metadata": {},
          "execution_count": 118
        },
        {
          "output_type": "display_data",
          "data": {
            "image/png": "[encoded data removed]",
            "text/plain": [
              "<Figure size 432x288 with 1 Axes>"
            ]
          },
          "metadata": {
            "needs_background": "light"
          }
        }
      ],
      "source": [
        "#Tampilkan kota tempat wisata ada kota apa saja \n",
        "wisata['City'].value_counts().plot(kind='bar')"
      ]
    },
    {
      "cell_type": "code",
      "execution_count": null,
      "metadata": {
        "colab": {
          "base_uri": "https://localhost:8080/",
          "height": 289
        },
        "id": "9aY7mGPv-eZj",
        "outputId": "2a21cf5c-5fa0-40fd-9f71-bf0de3e6050d"
      },
      "outputs": [
        {
          "output_type": "execute_result",
          "data": {
            "text/plain": [
              "<matplotlib.axes._subplots.AxesSubplot at 0x7efbe2042c10>"
            ]
          },
          "metadata": {},
          "execution_count": 119
        },
        {
          "output_type": "display_data",
          "data": {
            "image/png": "[encoded data removed]",
            "text/plain": [
              "<Figure size 432x288 with 1 Axes>"
            ]
          },
          "metadata": {
            "needs_background": "light"
          }
        }
      ],
      "source": [
        "#Tampilkan range rating terhadap tempat wisata\n",
        "wisata['Rating'].value_counts().plot(kind='bar')"
      ]
    },
    {
      "cell_type": "code",
      "execution_count": null,
      "metadata": {
        "colab": {
          "base_uri": "https://localhost:8080/",
          "height": 424
        },
        "id": "yngYS85m-0D_",
        "outputId": "16694a86-09be-4f3c-8793-b6cced6c9dfd"
      },
      "outputs": [
        {
          "output_type": "execute_result",
          "data": {
            "text/plain": [
              "<matplotlib.axes._subplots.AxesSubplot at 0x7efbe1fce7d0>"
            ]
          },
          "metadata": {},
          "execution_count": 120
        },
        {
          "output_type": "display_data",
          "data": {
            "image/png": "[encoded data removed]",
            "text/plain": [
              "<Figure size 432x288 with 1 Axes>"
            ]
          },
          "metadata": {
            "needs_background": "light"
          }
        }
      ],
      "source": [
        "#Tampilkan lokasi asa pengunjung \n",
        "profile['Location'].value_counts().plot(kind='bar')"
      ]
    },
    {
      "cell_type": "code",
      "execution_count": null,
      "metadata": {
        "colab": {
          "base_uri": "https://localhost:8080/"
        },
        "id": "VbQfFjqUCBag",
        "outputId": "4240a44a-b1ff-4229-f036-3923f144125e"
      },
      "outputs": [
        {
          "output_type": "stream",
          "name": "stdout",
          "text": [
            "<class 'pandas.core.frame.DataFrame'>\n",
            "RangeIndex: 437 entries, 0 to 436\n",
            "Data columns (total 13 columns):\n",
            " #   Column        Non-Null Count  Dtype  \n",
            "---  ------        --------------  -----  \n",
            " 0   Place_Id      437 non-null    int64  \n",
            " 1   Place_Name    437 non-null    object \n",
            " 2   Description   437 non-null    object \n",
            " 3   Category      437 non-null    object \n",
            " 4   City          437 non-null    object \n",
            " 5   Price         437 non-null    int64  \n",
            " 6   Rating        437 non-null    float64\n",
            " 7   Time_Minutes  205 non-null    float64\n",
            " 8   Coordinate    437 non-null    object \n",
            " 9   Lat           437 non-null    float64\n",
            " 10  Long          437 non-null    float64\n",
            " 11  Unnamed: 11   0 non-null      float64\n",
            " 12  Unnamed: 12   437 non-null    int64  \n",
            "dtypes: float64(5), int64(3), object(5)\n",
            "memory usage: 44.5+ KB\n"
          ]
        }
      ],
      "source": [
        "#Tampilkan info dataset wisata\n",
        "wisata.info()"
      ]
    },
    {
      "cell_type": "code",
      "execution_count": null,
      "metadata": {
        "colab": {
          "base_uri": "https://localhost:8080/"
        },
        "id": "EMV13SGmCHF9",
        "outputId": "4db673bc-f1e2-44a9-db5f-ba46e2535139"
      },
      "outputs": [
        {
          "output_type": "stream",
          "name": "stdout",
          "text": [
            "<class 'pandas.core.frame.DataFrame'>\n",
            "RangeIndex: 10000 entries, 0 to 9999\n",
            "Data columns (total 3 columns):\n",
            " #   Column         Non-Null Count  Dtype\n",
            "---  ------         --------------  -----\n",
            " 0   User_Id        10000 non-null  int64\n",
            " 1   Place_Id       10000 non-null  int64\n",
            " 2   Place_Ratings  10000 non-null  int64\n",
            "dtypes: int64(3)\n",
            "memory usage: 234.5 KB\n"
          ]
        }
      ],
      "source": [
        "#Tampilkan informasi data pada dataset rating\n",
        "rating.info()"
      ]
    },
    {
      "cell_type": "code",
      "execution_count": null,
      "metadata": {
        "colab": {
          "base_uri": "https://localhost:8080/"
        },
        "id": "D7YvPD0OCKUl",
        "outputId": "ee08918e-8974-48e3-ec2c-1adac8d32507"
      },
      "outputs": [
        {
          "output_type": "stream",
          "name": "stdout",
          "text": [
            "<class 'pandas.core.frame.DataFrame'>\n",
            "RangeIndex: 300 entries, 0 to 299\n",
            "Data columns (total 3 columns):\n",
            " #   Column    Non-Null Count  Dtype \n",
            "---  ------    --------------  ----- \n",
            " 0   User_Id   300 non-null    int64 \n",
            " 1   Location  300 non-null    object\n",
            " 2   Age       300 non-null    int64 \n",
            "dtypes: int64(2), object(1)\n",
            "memory usage: 7.2+ KB\n"
          ]
        }
      ],
      "source": [
        "#Tampilkan informasi data pada dataset profile\n",
        "profile.info()"
      ]
    },
    {
      "cell_type": "markdown",
      "metadata": {
        "id": "Yj3P7AI-D1S_"
      },
      "source": [
        "# **DATA PREPROCESSING**"
      ]
    },
    {
      "cell_type": "code",
      "execution_count": null,
      "metadata": {
        "colab": {
          "base_uri": "https://localhost:8080/",
          "height": 208
        },
        "id": "8ym1rPjAFz7h",
        "outputId": "e4c3dd40-4f10-441b-d81e-d508a07fbd07"
      },
      "outputs": [
        {
          "output_type": "execute_result",
          "data": {
            "text/html": [
              "\n",
              "  <div id=\"df-3005f701-35b4-4022-9aaa-433f95607ecb\">\n",
              "    <div class=\"colab-df-container\">\n",
              "      <div>\n",
              "<style scoped>\n",
              "    .dataframe tbody tr th:only-of-type {\n",
              "        vertical-align: middle;\n",
              "    }\n",
              "\n",
              "    .dataframe tbody tr th {\n",
              "        vertical-align: top;\n",
              "    }\n",
              "\n",
              "    .dataframe thead th {\n",
              "        text-align: right;\n",
              "    }\n",
              "</style>\n",
              "<table border=\"1\" class=\"dataframe\">\n",
              "  <thead>\n",
              "    <tr style=\"text-align: right;\">\n",
              "      <th></th>\n",
              "      <th>Place_Id</th>\n",
              "      <th>Place_Name</th>\n",
              "      <th>Description</th>\n",
              "      <th>Category</th>\n",
              "      <th>City</th>\n",
              "      <th>Price</th>\n",
              "      <th>Rating</th>\n",
              "      <th>Time_Minutes</th>\n",
              "      <th>Coordinate</th>\n",
              "      <th>Lat</th>\n",
              "      <th>Long</th>\n",
              "      <th>Unnamed: 11</th>\n",
              "      <th>Unnamed: 12</th>\n",
              "    </tr>\n",
              "  </thead>\n",
              "  <tbody>\n",
              "    <tr>\n",
              "      <th>0</th>\n",
              "      <td>1</td>\n",
              "      <td>Monumen Nasional</td>\n",
              "      <td>Monumen Nasional atau yang populer disingkat d...</td>\n",
              "      <td>Budaya</td>\n",
              "      <td>Jakarta</td>\n",
              "      <td>20000</td>\n",
              "      <td>4.6</td>\n",
              "      <td>15.0</td>\n",
              "      <td>{'lat': -6.1753924, 'lng': 106.8271528}</td>\n",
              "      <td>-6.175392</td>\n",
              "      <td>106.827153</td>\n",
              "      <td>NaN</td>\n",
              "      <td>1</td>\n",
              "    </tr>\n",
              "    <tr>\n",
              "      <th>1</th>\n",
              "      <td>2</td>\n",
              "      <td>Kota Tua</td>\n",
              "      <td>Kota tua di Jakarta, yang juga bernama Kota Tu...</td>\n",
              "      <td>Budaya</td>\n",
              "      <td>Jakarta</td>\n",
              "      <td>0</td>\n",
              "      <td>4.6</td>\n",
              "      <td>90.0</td>\n",
              "      <td>{'lat': -6.137644799999999, 'lng': 106.8171245}</td>\n",
              "      <td>-6.137645</td>\n",
              "      <td>106.817125</td>\n",
              "      <td>NaN</td>\n",
              "      <td>2</td>\n",
              "    </tr>\n",
              "  </tbody>\n",
              "</table>\n",
              "</div>\n",
              "      <button class=\"colab-df-convert\" onclick=\"convertToInteractive('df-3005f701-35b4-4022-9aaa-433f95607ecb')\"\n",
              "              title=\"Convert this dataframe to an interactive table.\"\n",
              "              style=\"display:none;\">\n",
              "        \n",
              "  <svg xmlns=\"http://www.w3.org/2000/svg\" height=\"24px\"viewBox=\"0 0 24 24\"\n",
              "       width=\"24px\">\n",
              "    <path d=\"M0 0h24v24H0V0z\" fill=\"none\"/>\n",
              "    <path d=\"M18.56 5.44l.94 2.06.94-2.06 2.06-.94-2.06-.94-.94-2.06-.94 2.06-2.06.94zm-11 1L8.5 8.5l.94-2.06 2.06-.94-2.06-.94L8.5 2.5l-.94 2.06-2.06.94zm10 10l.94 2.06.94-2.06 2.06-.94-2.06-.94-.94-2.06-.94 2.06-2.06.94z\"/><path d=\"M17.41 7.96l-1.37-1.37c-.4-.4-.92-.59-1.43-.59-.52 0-1.04.2-1.43.59L10.3 9.45l-7.72 7.72c-.78.78-.78 2.05 0 2.83L4 21.41c.39.39.9.59 1.41.59.51 0 1.02-.2 1.41-.59l7.78-7.78 2.81-2.81c.8-.78.8-2.07 0-2.86zM5.41 20L4 18.59l7.72-7.72 1.47 1.35L5.41 20z\"/>\n",
              "  </svg>\n",
              "      </button>\n",
              "      \n",
              "  <style>\n",
              "    .colab-df-container {\n",
              "      display:flex;\n",
              "      flex-wrap:wrap;\n",
              "      gap: 12px;\n",
              "    }\n",
              "\n",
              "    .colab-df-convert {\n",
              "      background-color: #E8F0FE;\n",
              "      border: none;\n",
              "      border-radius: 50%;\n",
              "      cursor: pointer;\n",
              "      display: none;\n",
              "      fill: #1967D2;\n",
              "      height: 32px;\n",
              "      padding: 0 0 0 0;\n",
              "      width: 32px;\n",
              "    }\n",
              "\n",
              "    .colab-df-convert:hover {\n",
              "      background-color: #E2EBFA;\n",
              "      box-shadow: 0px 1px 2px rgba(60, 64, 67, 0.3), 0px 1px 3px 1px rgba(60, 64, 67, 0.15);\n",
              "      fill: #174EA6;\n",
              "    }\n",
              "\n",
              "    [theme=dark] .colab-df-convert {\n",
              "      background-color: #3B4455;\n",
              "      fill: #D2E3FC;\n",
              "    }\n",
              "\n",
              "    [theme=dark] .colab-df-convert:hover {\n",
              "      background-color: #434B5C;\n",
              "      box-shadow: 0px 1px 3px 1px rgba(0, 0, 0, 0.15);\n",
              "      filter: drop-shadow(0px 1px 2px rgba(0, 0, 0, 0.3));\n",
              "      fill: #FFFFFF;\n",
              "    }\n",
              "  </style>\n",
              "\n",
              "      <script>\n",
              "        const buttonEl =\n",
              "          document.querySelector('#df-3005f701-35b4-4022-9aaa-433f95607ecb button.colab-df-convert');\n",
              "        buttonEl.style.display =\n",
              "          google.colab.kernel.accessAllowed ? 'block' : 'none';\n",
              "\n",
              "        async function convertToInteractive(key) {\n",
              "          const element = document.querySelector('#df-3005f701-35b4-4022-9aaa-433f95607ecb');\n",
              "          const dataTable =\n",
              "            await google.colab.kernel.invokeFunction('convertToInteractive',\n",
              "                                                     [key], {});\n",
              "          if (!dataTable) return;\n",
              "\n",
              "          const docLinkHtml = 'Like what you see? Visit the ' +\n",
              "            '<a target=\"_blank\" href=https://colab.research.google.com/notebooks/data_table.ipynb>data table notebook</a>'\n",
              "            + ' to learn more about interactive tables.';\n",
              "          element.innerHTML = '';\n",
              "          dataTable['output_type'] = 'display_data';\n",
              "          await google.colab.output.renderOutput(dataTable, element);\n",
              "          const docLink = document.createElement('div');\n",
              "          docLink.innerHTML = docLinkHtml;\n",
              "          element.appendChild(docLink);\n",
              "        }\n",
              "      </script>\n",
              "    </div>\n",
              "  </div>\n",
              "  "
            ],
            "text/plain": [
              "   Place_Id        Place_Name  ... Unnamed: 11 Unnamed: 12\n",
              "0         1  Monumen Nasional  ...         NaN           1\n",
              "1         2          Kota Tua  ...         NaN           2\n",
              "\n",
              "[2 rows x 13 columns]"
            ]
          },
          "metadata": {},
          "execution_count": 124
        }
      ],
      "source": [
        "#Melihat data\n",
        "wisata.head(2)"
      ]
    },
    {
      "cell_type": "code",
      "execution_count": null,
      "metadata": {
        "id": "prtSOpF-GmMU"
      },
      "outputs": [],
      "source": [
        "#Mengambil data tempat wisata yang berasal dari kota Yogyakarta saja\n",
        "wisata = wisata[wisata['City']=='Yogyakarta']\n",
        "\n",
        "#Tampilkan data\n",
        "#wisata.head()"
      ]
    },
    {
      "cell_type": "code",
      "source": [
        "#Cek dimensi data sebelum handling missing value\n",
        "wisata.shape"
      ],
      "metadata": {
        "colab": {
          "base_uri": "https://localhost:8080/"
        },
        "id": "bWvCLYeujY5i",
        "outputId": "3107db21-4c42-4956-e9aa-bfe18685dbc0"
      },
      "execution_count": null,
      "outputs": [
        {
          "output_type": "execute_result",
          "data": {
            "text/plain": [
              "(126, 13)"
            ]
          },
          "metadata": {},
          "execution_count": 126
        }
      ]
    },
    {
      "cell_type": "code",
      "source": [
        "#Cek missing value\n",
        "wisata.isnull().sum()"
      ],
      "metadata": {
        "colab": {
          "base_uri": "https://localhost:8080/"
        },
        "id": "hBAMswyYkdQz",
        "outputId": "c4114326-0b55-4389-abc0-4bcfa2c04472"
      },
      "execution_count": null,
      "outputs": [
        {
          "output_type": "execute_result",
          "data": {
            "text/plain": [
              "Place_Id          0\n",
              "Place_Name        0\n",
              "Description       0\n",
              "Category          0\n",
              "City              0\n",
              "Price             0\n",
              "Rating            0\n",
              "Time_Minutes     66\n",
              "Coordinate        0\n",
              "Lat               0\n",
              "Long              0\n",
              "Unnamed: 11     126\n",
              "Unnamed: 12       0\n",
              "dtype: int64"
            ]
          },
          "metadata": {},
          "execution_count": 127
        }
      ]
    },
    {
      "cell_type": "code",
      "execution_count": null,
      "metadata": {
        "id": "IuSjj4GUEAfl",
        "colab": {
          "base_uri": "https://localhost:8080/"
        },
        "outputId": "50d54cb4-1114-437c-cf32-8c0f31d5af07"
      },
      "outputs": [
        {
          "output_type": "execute_result",
          "data": {
            "text/plain": [
              "Place_Id       0\n",
              "Place_Name     0\n",
              "Description    0\n",
              "Category       0\n",
              "City           0\n",
              "Price          0\n",
              "Rating         0\n",
              "Coordinate     0\n",
              "Lat            0\n",
              "Long           0\n",
              "dtype: int64"
            ]
          },
          "metadata": {},
          "execution_count": 128
        }
      ],
      "source": [
        "#Handling mising value dengan drop \n",
        "wisata = wisata.drop(['Unnamed: 11', 'Unnamed: 12', 'Time_Minutes'], axis=1)\n",
        "\n",
        "#Cek missing value \n",
        "wisata.isnull().sum()"
      ]
    },
    {
      "cell_type": "code",
      "execution_count": null,
      "metadata": {
        "colab": {
          "base_uri": "https://localhost:8080/",
          "height": 206
        },
        "id": "Do5Dzi2WFCRu",
        "outputId": "bf1bddd5-e722-4090-b720-d548447ef1d0"
      },
      "outputs": [
        {
          "output_type": "execute_result",
          "data": {
            "text/html": [
              "\n",
              "  <div id=\"df-0fd1766d-1b08-4602-9cea-8132e0b3913e\">\n",
              "    <div class=\"colab-df-container\">\n",
              "      <div>\n",
              "<style scoped>\n",
              "    .dataframe tbody tr th:only-of-type {\n",
              "        vertical-align: middle;\n",
              "    }\n",
              "\n",
              "    .dataframe tbody tr th {\n",
              "        vertical-align: top;\n",
              "    }\n",
              "\n",
              "    .dataframe thead th {\n",
              "        text-align: right;\n",
              "    }\n",
              "</style>\n",
              "<table border=\"1\" class=\"dataframe\">\n",
              "  <thead>\n",
              "    <tr style=\"text-align: right;\">\n",
              "      <th></th>\n",
              "      <th>Place_Id</th>\n",
              "      <th>Place_Name</th>\n",
              "      <th>Description</th>\n",
              "      <th>Category</th>\n",
              "      <th>City</th>\n",
              "      <th>Price</th>\n",
              "      <th>Rating</th>\n",
              "      <th>Coordinate</th>\n",
              "      <th>Lat</th>\n",
              "      <th>Long</th>\n",
              "    </tr>\n",
              "  </thead>\n",
              "  <tbody>\n",
              "    <tr>\n",
              "      <th>84</th>\n",
              "      <td>85</td>\n",
              "      <td>Taman Pintar Yogyakarta</td>\n",
              "      <td>Taman Pintar Yogyakarta (bahasa Jawa: Hanacara...</td>\n",
              "      <td>Taman Hiburan</td>\n",
              "      <td>Yogyakarta</td>\n",
              "      <td>6000</td>\n",
              "      <td>4.5</td>\n",
              "      <td>{'lat': -7.800671500000001, 'lng': 110.3676551}</td>\n",
              "      <td>-7.800671</td>\n",
              "      <td>110.367655</td>\n",
              "    </tr>\n",
              "    <tr>\n",
              "      <th>85</th>\n",
              "      <td>86</td>\n",
              "      <td>Keraton Yogyakarta</td>\n",
              "      <td>Keraton Ngayogyakarta Hadiningrat atau Keraton...</td>\n",
              "      <td>Budaya</td>\n",
              "      <td>Yogyakarta</td>\n",
              "      <td>15000</td>\n",
              "      <td>4.6</td>\n",
              "      <td>{'lat': -7.8052845, 'lng': 110.3642031}</td>\n",
              "      <td>-7.805284</td>\n",
              "      <td>110.364203</td>\n",
              "    </tr>\n",
              "    <tr>\n",
              "      <th>86</th>\n",
              "      <td>87</td>\n",
              "      <td>Sindu Kusuma Edupark (SKE)</td>\n",
              "      <td>Sindu Kusuma Edupark (SKE) merupakan sebuah de...</td>\n",
              "      <td>Taman Hiburan</td>\n",
              "      <td>Yogyakarta</td>\n",
              "      <td>20000</td>\n",
              "      <td>4.2</td>\n",
              "      <td>{'lat': -7.767297300000001, 'lng': 110.3542486}</td>\n",
              "      <td>-7.767297</td>\n",
              "      <td>110.354249</td>\n",
              "    </tr>\n",
              "    <tr>\n",
              "      <th>87</th>\n",
              "      <td>88</td>\n",
              "      <td>Museum Benteng Vredeburg Yogyakarta</td>\n",
              "      <td>Museum Benteng Vredeburg (bahasa Jawa: ꦩꦸꦱꦶꦪꦸꦩ...</td>\n",
              "      <td>Budaya</td>\n",
              "      <td>Yogyakarta</td>\n",
              "      <td>3000</td>\n",
              "      <td>4.6</td>\n",
              "      <td>{'lat': -7.800201599999999, 'lng': 110.3663044}</td>\n",
              "      <td>-7.800202</td>\n",
              "      <td>110.366304</td>\n",
              "    </tr>\n",
              "    <tr>\n",
              "      <th>88</th>\n",
              "      <td>89</td>\n",
              "      <td>De Mata Museum Jogja</td>\n",
              "      <td>Museum De Mata merupakan salah satu museum yan...</td>\n",
              "      <td>Budaya</td>\n",
              "      <td>Yogyakarta</td>\n",
              "      <td>50000</td>\n",
              "      <td>4.4</td>\n",
              "      <td>{'lat': -7.816315599999999, 'lng': 110.3871442}</td>\n",
              "      <td>-7.816316</td>\n",
              "      <td>110.387144</td>\n",
              "    </tr>\n",
              "  </tbody>\n",
              "</table>\n",
              "</div>\n",
              "      <button class=\"colab-df-convert\" onclick=\"convertToInteractive('df-0fd1766d-1b08-4602-9cea-8132e0b3913e')\"\n",
              "              title=\"Convert this dataframe to an interactive table.\"\n",
              "              style=\"display:none;\">\n",
              "        \n",
              "  <svg xmlns=\"http://www.w3.org/2000/svg\" height=\"24px\"viewBox=\"0 0 24 24\"\n",
              "       width=\"24px\">\n",
              "    <path d=\"M0 0h24v24H0V0z\" fill=\"none\"/>\n",
              "    <path d=\"M18.56 5.44l.94 2.06.94-2.06 2.06-.94-2.06-.94-.94-2.06-.94 2.06-2.06.94zm-11 1L8.5 8.5l.94-2.06 2.06-.94-2.06-.94L8.5 2.5l-.94 2.06-2.06.94zm10 10l.94 2.06.94-2.06 2.06-.94-2.06-.94-.94-2.06-.94 2.06-2.06.94z\"/><path d=\"M17.41 7.96l-1.37-1.37c-.4-.4-.92-.59-1.43-.59-.52 0-1.04.2-1.43.59L10.3 9.45l-7.72 7.72c-.78.78-.78 2.05 0 2.83L4 21.41c.39.39.9.59 1.41.59.51 0 1.02-.2 1.41-.59l7.78-7.78 2.81-2.81c.8-.78.8-2.07 0-2.86zM5.41 20L4 18.59l7.72-7.72 1.47 1.35L5.41 20z\"/>\n",
              "  </svg>\n",
              "      </button>\n",
              "      \n",
              "  <style>\n",
              "    .colab-df-container {\n",
              "      display:flex;\n",
              "      flex-wrap:wrap;\n",
              "      gap: 12px;\n",
              "    }\n",
              "\n",
              "    .colab-df-convert {\n",
              "      background-color: #E8F0FE;\n",
              "      border: none;\n",
              "      border-radius: 50%;\n",
              "      cursor: pointer;\n",
              "      display: none;\n",
              "      fill: #1967D2;\n",
              "      height: 32px;\n",
              "      padding: 0 0 0 0;\n",
              "      width: 32px;\n",
              "    }\n",
              "\n",
              "    .colab-df-convert:hover {\n",
              "      background-color: #E2EBFA;\n",
              "      box-shadow: 0px 1px 2px rgba(60, 64, 67, 0.3), 0px 1px 3px 1px rgba(60, 64, 67, 0.15);\n",
              "      fill: #174EA6;\n",
              "    }\n",
              "\n",
              "    [theme=dark] .colab-df-convert {\n",
              "      background-color: #3B4455;\n",
              "      fill: #D2E3FC;\n",
              "    }\n",
              "\n",
              "    [theme=dark] .colab-df-convert:hover {\n",
              "      background-color: #434B5C;\n",
              "      box-shadow: 0px 1px 3px 1px rgba(0, 0, 0, 0.15);\n",
              "      filter: drop-shadow(0px 1px 2px rgba(0, 0, 0, 0.3));\n",
              "      fill: #FFFFFF;\n",
              "    }\n",
              "  </style>\n",
              "\n",
              "      <script>\n",
              "        const buttonEl =\n",
              "          document.querySelector('#df-0fd1766d-1b08-4602-9cea-8132e0b3913e button.colab-df-convert');\n",
              "        buttonEl.style.display =\n",
              "          google.colab.kernel.accessAllowed ? 'block' : 'none';\n",
              "\n",
              "        async function convertToInteractive(key) {\n",
              "          const element = document.querySelector('#df-0fd1766d-1b08-4602-9cea-8132e0b3913e');\n",
              "          const dataTable =\n",
              "            await google.colab.kernel.invokeFunction('convertToInteractive',\n",
              "                                                     [key], {});\n",
              "          if (!dataTable) return;\n",
              "\n",
              "          const docLinkHtml = 'Like what you see? Visit the ' +\n",
              "            '<a target=\"_blank\" href=https://colab.research.google.com/notebooks/data_table.ipynb>data table notebook</a>'\n",
              "            + ' to learn more about interactive tables.';\n",
              "          element.innerHTML = '';\n",
              "          dataTable['output_type'] = 'display_data';\n",
              "          await google.colab.output.renderOutput(dataTable, element);\n",
              "          const docLink = document.createElement('div');\n",
              "          docLink.innerHTML = docLinkHtml;\n",
              "          element.appendChild(docLink);\n",
              "        }\n",
              "      </script>\n",
              "    </div>\n",
              "  </div>\n",
              "  "
            ],
            "text/plain": [
              "    Place_Id                           Place_Name  ...       Lat        Long\n",
              "84        85              Taman Pintar Yogyakarta  ... -7.800671  110.367655\n",
              "85        86                   Keraton Yogyakarta  ... -7.805284  110.364203\n",
              "86        87           Sindu Kusuma Edupark (SKE)  ... -7.767297  110.354249\n",
              "87        88  Museum Benteng Vredeburg Yogyakarta  ... -7.800202  110.366304\n",
              "88        89                 De Mata Museum Jogja  ... -7.816316  110.387144\n",
              "\n",
              "[5 rows x 10 columns]"
            ]
          },
          "metadata": {},
          "execution_count": 129
        }
      ],
      "source": [
        "#Tampilkan data wisata setelah handling missing value\n",
        "wisata.head()"
      ]
    },
    {
      "cell_type": "code",
      "source": [
        "#Melihat dimensi data wisata\n",
        "wisata.shape"
      ],
      "metadata": {
        "colab": {
          "base_uri": "https://localhost:8080/"
        },
        "id": "1kgr8iA_4XEx",
        "outputId": "968040ba-e5b5-45d1-e3a2-ee4b95609ec8"
      },
      "execution_count": null,
      "outputs": [
        {
          "output_type": "execute_result",
          "data": {
            "text/plain": [
              "(126, 10)"
            ]
          },
          "metadata": {},
          "execution_count": 130
        }
      ]
    },
    {
      "cell_type": "code",
      "execution_count": null,
      "metadata": {
        "colab": {
          "base_uri": "https://localhost:8080/",
          "height": 206
        },
        "id": "5zekX9X9HPdT",
        "outputId": "2c8af5f5-8ab6-47bc-ed2d-c2f5fb1407cd"
      },
      "outputs": [
        {
          "output_type": "execute_result",
          "data": {
            "text/html": [
              "\n",
              "  <div id=\"df-075d410e-1009-4ff1-8c62-84918602bba1\">\n",
              "    <div class=\"colab-df-container\">\n",
              "      <div>\n",
              "<style scoped>\n",
              "    .dataframe tbody tr th:only-of-type {\n",
              "        vertical-align: middle;\n",
              "    }\n",
              "\n",
              "    .dataframe tbody tr th {\n",
              "        vertical-align: top;\n",
              "    }\n",
              "\n",
              "    .dataframe thead th {\n",
              "        text-align: right;\n",
              "    }\n",
              "</style>\n",
              "<table border=\"1\" class=\"dataframe\">\n",
              "  <thead>\n",
              "    <tr style=\"text-align: right;\">\n",
              "      <th></th>\n",
              "      <th>User_Id</th>\n",
              "      <th>Place_Id</th>\n",
              "      <th>Place_Ratings</th>\n",
              "    </tr>\n",
              "  </thead>\n",
              "  <tbody>\n",
              "    <tr>\n",
              "      <th>0</th>\n",
              "      <td>2</td>\n",
              "      <td>85</td>\n",
              "      <td>4</td>\n",
              "    </tr>\n",
              "    <tr>\n",
              "      <th>1</th>\n",
              "      <td>23</td>\n",
              "      <td>85</td>\n",
              "      <td>4</td>\n",
              "    </tr>\n",
              "    <tr>\n",
              "      <th>2</th>\n",
              "      <td>25</td>\n",
              "      <td>85</td>\n",
              "      <td>2</td>\n",
              "    </tr>\n",
              "    <tr>\n",
              "      <th>3</th>\n",
              "      <td>39</td>\n",
              "      <td>85</td>\n",
              "      <td>5</td>\n",
              "    </tr>\n",
              "    <tr>\n",
              "      <th>4</th>\n",
              "      <td>43</td>\n",
              "      <td>85</td>\n",
              "      <td>4</td>\n",
              "    </tr>\n",
              "  </tbody>\n",
              "</table>\n",
              "</div>\n",
              "      <button class=\"colab-df-convert\" onclick=\"convertToInteractive('df-075d410e-1009-4ff1-8c62-84918602bba1')\"\n",
              "              title=\"Convert this dataframe to an interactive table.\"\n",
              "              style=\"display:none;\">\n",
              "        \n",
              "  <svg xmlns=\"http://www.w3.org/2000/svg\" height=\"24px\"viewBox=\"0 0 24 24\"\n",
              "       width=\"24px\">\n",
              "    <path d=\"M0 0h24v24H0V0z\" fill=\"none\"/>\n",
              "    <path d=\"M18.56 5.44l.94 2.06.94-2.06 2.06-.94-2.06-.94-.94-2.06-.94 2.06-2.06.94zm-11 1L8.5 8.5l.94-2.06 2.06-.94-2.06-.94L8.5 2.5l-.94 2.06-2.06.94zm10 10l.94 2.06.94-2.06 2.06-.94-2.06-.94-.94-2.06-.94 2.06-2.06.94z\"/><path d=\"M17.41 7.96l-1.37-1.37c-.4-.4-.92-.59-1.43-.59-.52 0-1.04.2-1.43.59L10.3 9.45l-7.72 7.72c-.78.78-.78 2.05 0 2.83L4 21.41c.39.39.9.59 1.41.59.51 0 1.02-.2 1.41-.59l7.78-7.78 2.81-2.81c.8-.78.8-2.07 0-2.86zM5.41 20L4 18.59l7.72-7.72 1.47 1.35L5.41 20z\"/>\n",
              "  </svg>\n",
              "      </button>\n",
              "      \n",
              "  <style>\n",
              "    .colab-df-container {\n",
              "      display:flex;\n",
              "      flex-wrap:wrap;\n",
              "      gap: 12px;\n",
              "    }\n",
              "\n",
              "    .colab-df-convert {\n",
              "      background-color: #E8F0FE;\n",
              "      border: none;\n",
              "      border-radius: 50%;\n",
              "      cursor: pointer;\n",
              "      display: none;\n",
              "      fill: #1967D2;\n",
              "      height: 32px;\n",
              "      padding: 0 0 0 0;\n",
              "      width: 32px;\n",
              "    }\n",
              "\n",
              "    .colab-df-convert:hover {\n",
              "      background-color: #E2EBFA;\n",
              "      box-shadow: 0px 1px 2px rgba(60, 64, 67, 0.3), 0px 1px 3px 1px rgba(60, 64, 67, 0.15);\n",
              "      fill: #174EA6;\n",
              "    }\n",
              "\n",
              "    [theme=dark] .colab-df-convert {\n",
              "      background-color: #3B4455;\n",
              "      fill: #D2E3FC;\n",
              "    }\n",
              "\n",
              "    [theme=dark] .colab-df-convert:hover {\n",
              "      background-color: #434B5C;\n",
              "      box-shadow: 0px 1px 3px 1px rgba(0, 0, 0, 0.15);\n",
              "      filter: drop-shadow(0px 1px 2px rgba(0, 0, 0, 0.3));\n",
              "      fill: #FFFFFF;\n",
              "    }\n",
              "  </style>\n",
              "\n",
              "      <script>\n",
              "        const buttonEl =\n",
              "          document.querySelector('#df-075d410e-1009-4ff1-8c62-84918602bba1 button.colab-df-convert');\n",
              "        buttonEl.style.display =\n",
              "          google.colab.kernel.accessAllowed ? 'block' : 'none';\n",
              "\n",
              "        async function convertToInteractive(key) {\n",
              "          const element = document.querySelector('#df-075d410e-1009-4ff1-8c62-84918602bba1');\n",
              "          const dataTable =\n",
              "            await google.colab.kernel.invokeFunction('convertToInteractive',\n",
              "                                                     [key], {});\n",
              "          if (!dataTable) return;\n",
              "\n",
              "          const docLinkHtml = 'Like what you see? Visit the ' +\n",
              "            '<a target=\"_blank\" href=https://colab.research.google.com/notebooks/data_table.ipynb>data table notebook</a>'\n",
              "            + ' to learn more about interactive tables.';\n",
              "          element.innerHTML = '';\n",
              "          dataTable['output_type'] = 'display_data';\n",
              "          await google.colab.output.renderOutput(dataTable, element);\n",
              "          const docLink = document.createElement('div');\n",
              "          docLink.innerHTML = docLinkHtml;\n",
              "          element.appendChild(docLink);\n",
              "        }\n",
              "      </script>\n",
              "    </div>\n",
              "  </div>\n",
              "  "
            ],
            "text/plain": [
              "   User_Id  Place_Id  Place_Ratings\n",
              "0        2        85              4\n",
              "1       23        85              4\n",
              "2       25        85              2\n",
              "3       39        85              5\n",
              "4       43        85              4"
            ]
          },
          "metadata": {},
          "execution_count": 131
        }
      ],
      "source": [
        "#Tampilkan data rating\n",
        "rating.head()\n",
        "\n",
        "#Mengambil data rating untuk tempat wisata di Yogyakarta \n",
        "rating = pd.merge(rating, wisata[['Place_Id']], how='right', on='Place_Id')\n",
        "rating.head()"
      ]
    },
    {
      "cell_type": "code",
      "source": [
        "#Melihat  dimensi data rating kota Yogya\n",
        "rating.shape"
      ],
      "metadata": {
        "colab": {
          "base_uri": "https://localhost:8080/"
        },
        "id": "Bb26TecS4dmH",
        "outputId": "0b1470ec-9a49-4b54-f3b9-68dae1b9838b"
      },
      "execution_count": null,
      "outputs": [
        {
          "output_type": "execute_result",
          "data": {
            "text/plain": [
              "(2871, 3)"
            ]
          },
          "metadata": {},
          "execution_count": 132
        }
      ]
    },
    {
      "cell_type": "code",
      "execution_count": null,
      "metadata": {
        "colab": {
          "base_uri": "https://localhost:8080/",
          "height": 206
        },
        "id": "YVt3ZCTdH66d",
        "outputId": "a6adc90d-22b0-4b26-e1e1-4a83c78a1bba"
      },
      "outputs": [
        {
          "output_type": "execute_result",
          "data": {
            "text/html": [
              "\n",
              "  <div id=\"df-0c3e298a-dc02-4bed-ab50-33a6ea99cfd6\">\n",
              "    <div class=\"colab-df-container\">\n",
              "      <div>\n",
              "<style scoped>\n",
              "    .dataframe tbody tr th:only-of-type {\n",
              "        vertical-align: middle;\n",
              "    }\n",
              "\n",
              "    .dataframe tbody tr th {\n",
              "        vertical-align: top;\n",
              "    }\n",
              "\n",
              "    .dataframe thead th {\n",
              "        text-align: right;\n",
              "    }\n",
              "</style>\n",
              "<table border=\"1\" class=\"dataframe\">\n",
              "  <thead>\n",
              "    <tr style=\"text-align: right;\">\n",
              "      <th></th>\n",
              "      <th>User_Id</th>\n",
              "      <th>Location</th>\n",
              "      <th>Age</th>\n",
              "    </tr>\n",
              "  </thead>\n",
              "  <tbody>\n",
              "    <tr>\n",
              "      <th>868</th>\n",
              "      <td>1</td>\n",
              "      <td>Semarang, Jawa Tengah</td>\n",
              "      <td>20</td>\n",
              "    </tr>\n",
              "    <tr>\n",
              "      <th>0</th>\n",
              "      <td>2</td>\n",
              "      <td>Bekasi, Jawa Barat</td>\n",
              "      <td>21</td>\n",
              "    </tr>\n",
              "    <tr>\n",
              "      <th>247</th>\n",
              "      <td>3</td>\n",
              "      <td>Cirebon, Jawa Barat</td>\n",
              "      <td>23</td>\n",
              "    </tr>\n",
              "    <tr>\n",
              "      <th>621</th>\n",
              "      <td>4</td>\n",
              "      <td>Bekasi, Jawa Barat</td>\n",
              "      <td>21</td>\n",
              "    </tr>\n",
              "    <tr>\n",
              "      <th>2649</th>\n",
              "      <td>5</td>\n",
              "      <td>Lampung, Sumatera Selatan</td>\n",
              "      <td>20</td>\n",
              "    </tr>\n",
              "  </tbody>\n",
              "</table>\n",
              "</div>\n",
              "      <button class=\"colab-df-convert\" onclick=\"convertToInteractive('df-0c3e298a-dc02-4bed-ab50-33a6ea99cfd6')\"\n",
              "              title=\"Convert this dataframe to an interactive table.\"\n",
              "              style=\"display:none;\">\n",
              "        \n",
              "  <svg xmlns=\"http://www.w3.org/2000/svg\" height=\"24px\"viewBox=\"0 0 24 24\"\n",
              "       width=\"24px\">\n",
              "    <path d=\"M0 0h24v24H0V0z\" fill=\"none\"/>\n",
              "    <path d=\"M18.56 5.44l.94 2.06.94-2.06 2.06-.94-2.06-.94-.94-2.06-.94 2.06-2.06.94zm-11 1L8.5 8.5l.94-2.06 2.06-.94-2.06-.94L8.5 2.5l-.94 2.06-2.06.94zm10 10l.94 2.06.94-2.06 2.06-.94-2.06-.94-.94-2.06-.94 2.06-2.06.94z\"/><path d=\"M17.41 7.96l-1.37-1.37c-.4-.4-.92-.59-1.43-.59-.52 0-1.04.2-1.43.59L10.3 9.45l-7.72 7.72c-.78.78-.78 2.05 0 2.83L4 21.41c.39.39.9.59 1.41.59.51 0 1.02-.2 1.41-.59l7.78-7.78 2.81-2.81c.8-.78.8-2.07 0-2.86zM5.41 20L4 18.59l7.72-7.72 1.47 1.35L5.41 20z\"/>\n",
              "  </svg>\n",
              "      </button>\n",
              "      \n",
              "  <style>\n",
              "    .colab-df-container {\n",
              "      display:flex;\n",
              "      flex-wrap:wrap;\n",
              "      gap: 12px;\n",
              "    }\n",
              "\n",
              "    .colab-df-convert {\n",
              "      background-color: #E8F0FE;\n",
              "      border: none;\n",
              "      border-radius: 50%;\n",
              "      cursor: pointer;\n",
              "      display: none;\n",
              "      fill: #1967D2;\n",
              "      height: 32px;\n",
              "      padding: 0 0 0 0;\n",
              "      width: 32px;\n",
              "    }\n",
              "\n",
              "    .colab-df-convert:hover {\n",
              "      background-color: #E2EBFA;\n",
              "      box-shadow: 0px 1px 2px rgba(60, 64, 67, 0.3), 0px 1px 3px 1px rgba(60, 64, 67, 0.15);\n",
              "      fill: #174EA6;\n",
              "    }\n",
              "\n",
              "    [theme=dark] .colab-df-convert {\n",
              "      background-color: #3B4455;\n",
              "      fill: #D2E3FC;\n",
              "    }\n",
              "\n",
              "    [theme=dark] .colab-df-convert:hover {\n",
              "      background-color: #434B5C;\n",
              "      box-shadow: 0px 1px 3px 1px rgba(0, 0, 0, 0.15);\n",
              "      filter: drop-shadow(0px 1px 2px rgba(0, 0, 0, 0.3));\n",
              "      fill: #FFFFFF;\n",
              "    }\n",
              "  </style>\n",
              "\n",
              "      <script>\n",
              "        const buttonEl =\n",
              "          document.querySelector('#df-0c3e298a-dc02-4bed-ab50-33a6ea99cfd6 button.colab-df-convert');\n",
              "        buttonEl.style.display =\n",
              "          google.colab.kernel.accessAllowed ? 'block' : 'none';\n",
              "\n",
              "        async function convertToInteractive(key) {\n",
              "          const element = document.querySelector('#df-0c3e298a-dc02-4bed-ab50-33a6ea99cfd6');\n",
              "          const dataTable =\n",
              "            await google.colab.kernel.invokeFunction('convertToInteractive',\n",
              "                                                     [key], {});\n",
              "          if (!dataTable) return;\n",
              "\n",
              "          const docLinkHtml = 'Like what you see? Visit the ' +\n",
              "            '<a target=\"_blank\" href=https://colab.research.google.com/notebooks/data_table.ipynb>data table notebook</a>'\n",
              "            + ' to learn more about interactive tables.';\n",
              "          element.innerHTML = '';\n",
              "          dataTable['output_type'] = 'display_data';\n",
              "          await google.colab.output.renderOutput(dataTable, element);\n",
              "          const docLink = document.createElement('div');\n",
              "          docLink.innerHTML = docLinkHtml;\n",
              "          element.appendChild(docLink);\n",
              "        }\n",
              "      </script>\n",
              "    </div>\n",
              "  </div>\n",
              "  "
            ],
            "text/plain": [
              "      User_Id                   Location  Age\n",
              "868         1      Semarang, Jawa Tengah   20\n",
              "0           2         Bekasi, Jawa Barat   21\n",
              "247         3        Cirebon, Jawa Barat   23\n",
              "621         4         Bekasi, Jawa Barat   21\n",
              "2649        5  Lampung, Sumatera Selatan   20"
            ]
          },
          "metadata": {},
          "execution_count": 133
        }
      ],
      "source": [
        "#Melihat data pengunjung\n",
        "profile.head()\n",
        "\n",
        "#Mengambil data pengunjung yang hanya pernah engunjungi tempat wisata di Yogya\n",
        "profile = pd.merge(profile, rating[['User_Id']], how='right', on='User_Id').drop_duplicates().sort_values('User_Id')\n",
        "profile.head()"
      ]
    },
    {
      "cell_type": "code",
      "source": [
        "#Melihat dimensi data user kota yogya\n",
        "profile.shape"
      ],
      "metadata": {
        "colab": {
          "base_uri": "https://localhost:8080/"
        },
        "id": "LWqpK4wW4l7m",
        "outputId": "c2fcc364-1fcd-44fb-937c-d51c802c1720"
      },
      "execution_count": null,
      "outputs": [
        {
          "output_type": "execute_result",
          "data": {
            "text/plain": [
              "(300, 3)"
            ]
          },
          "metadata": {},
          "execution_count": 134
        }
      ]
    },
    {
      "cell_type": "markdown",
      "source": [
        "# **DATA PREPARATION**"
      ],
      "metadata": {
        "id": "WaNUHKS1YykY"
      }
    },
    {
      "cell_type": "markdown",
      "source": [
        "Multivariate Analysis Kota Yogyakarta"
      ],
      "metadata": {
        "id": "3SWXZEfgY4H7"
      }
    },
    {
      "cell_type": "code",
      "source": [
        "#Membuat dataframe baru untuk mengelompokan tempat wisata di Yogyakarta berdasarkan rating\n",
        "top_5 = rating['Place_Id'].value_counts().reset_index()[0:5]\n",
        "top_5 = pd.merge(top_5, wisata[['Place_Id','Place_Name']], how='left', left_on='index', right_on='Place_Id')\n",
        "\n",
        "\n",
        "# Membuat visualisasi tempat wisata Yogyakarta diurutkan berdasarkan jumlah rating terbanyak\n",
        "plt.figure(figsize=(8,5))\n",
        "sns.barplot('Place_Id_x', 'Place_Name', data=top_5)\n",
        "plt.title('Jumlah Tempat Wisata di Yogyakarta dengan Rating Terbanyak', pad=20)\n",
        "plt.ylabel('Jumlah Rating')\n",
        "plt.xlabel('Lokasi Wisata')\n",
        "plt.show()"
      ],
      "metadata": {
        "colab": {
          "base_uri": "https://localhost:8080/",
          "height": 421
        },
        "id": "hwxUqlff7B5k",
        "outputId": "630f92ae-3aba-435c-d150-8b01648f632c"
      },
      "execution_count": null,
      "outputs": [
        {
          "output_type": "stream",
          "name": "stderr",
          "text": [
            "/usr/local/lib/python3.7/dist-packages/seaborn/_decorators.py:43: FutureWarning: Pass the following variables as keyword args: x, y. From version 0.12, the only valid positional argument will be `data`, and passing other arguments without an explicit keyword will result in an error or misinterpretation.\n",
            "  FutureWarning\n"
          ]
        },
        {
          "output_type": "display_data",
          "data": {
            "image/png": "[encoded data removed]",
            "text/plain": [
              "<Figure size 576x360 with 1 Axes>"
            ]
          },
          "metadata": {
            "needs_background": "light"
          }
        }
      ]
    },
    {
      "cell_type": "code",
      "source": [
        "#Membuat dataframe baru untuk mengelompokan ketgori tempat wisata di Yogyakarta berdasarkan rating\n",
        "top_5 = rating['Place_Id'].value_counts().reset_index()[0:5]\n",
        "top_5 = pd.merge(top_5, wisata[['Place_Id','Category']], how='left', left_on='index', right_on='Place_Id')\n",
        "\n",
        "\n",
        "# Membuat visualisasi tempat wisata Yogyakarta diurutkan berdasarkan jumlah rating terbanyak\n",
        "plt.figure(figsize=(8,5))\n",
        "sns.barplot('Place_Id_x', 'Category', data=top_5)\n",
        "plt.title('Jumlah Kategori Wisata di Yogyakarta dengan Rating Terbanyak', pad=20)\n",
        "plt.ylabel('Jumlah Rating')\n",
        "plt.xlabel('Kategori Wisata')\n",
        "plt.show()"
      ],
      "metadata": {
        "colab": {
          "base_uri": "https://localhost:8080/",
          "height": 421
        },
        "id": "muP3rz0FsIYt",
        "outputId": "d10af596-0aa1-4764-9ba6-dac24f204e63"
      },
      "execution_count": null,
      "outputs": [
        {
          "output_type": "stream",
          "name": "stderr",
          "text": [
            "/usr/local/lib/python3.7/dist-packages/seaborn/_decorators.py:43: FutureWarning: Pass the following variables as keyword args: x, y. From version 0.12, the only valid positional argument will be `data`, and passing other arguments without an explicit keyword will result in an error or misinterpretation.\n",
            "  FutureWarning\n"
          ]
        },
        {
          "output_type": "display_data",
          "data": {
            "image/png": "[encoded data removed]",
            "text/plain": [
              "<Figure size 576x360 with 1 Axes>"
            ]
          },
          "metadata": {
            "needs_background": "light"
          }
        }
      ]
    },
    {
      "cell_type": "code",
      "source": [
        "#Mmebuat visualisasi untuk mengetahui kategori tempat wisata di Yogyakarta yang paling banyak di kunjungi\n",
        "sns.countplot(y='Category', data=wisata)\n",
        "plt.title('Kategori Tempat Wisaa di Kota Yogyakarta yang Paling Banyak di Kunjungi', pad=20)\n",
        "plt.show()"
      ],
      "metadata": {
        "colab": {
          "base_uri": "https://localhost:8080/",
          "height": 309
        },
        "id": "GQTc7xZO8NID",
        "outputId": "7dabb792-43f9-4a95-bb80-b2dadfb01609"
      },
      "execution_count": null,
      "outputs": [
        {
          "output_type": "display_data",
          "data": {
            "image/png": "[encoded data removed]",
            "text/plain": [
              "<Figure size 432x288 with 1 Axes>"
            ]
          },
          "metadata": {
            "needs_background": "light"
          }
        }
      ]
    },
    {
      "cell_type": "code",
      "source": [
        "#Melihat distribusi range usia yang mengunjungungi tempat wisata di kota Yogyakarta\n",
        "\n",
        "plt.figure(figsize=(6,3))\n",
        "sns.boxplot(x=profile['Age']);\n",
        "plt.title('Rentang Usia yang Mengunjungi Kota Yogyakarta')\n",
        "plt.show()"
      ],
      "metadata": {
        "colab": {
          "base_uri": "https://localhost:8080/",
          "height": 241
        },
        "id": "TQdBEci9__XW",
        "outputId": "4fef3d88-37d8-4a36-b395-29d89d96fcc8"
      },
      "execution_count": null,
      "outputs": [
        {
          "output_type": "display_data",
          "data": {
            "image/png": "[encoded data removed]",
            "text/plain": [
              "<Figure size 432x216 with 1 Axes>"
            ]
          },
          "metadata": {
            "needs_background": "light"
          }
        }
      ]
    },
    {
      "cell_type": "code",
      "source": [
        "#Melihat lebih dalam lagi ada apa dalam fitur Age\n",
        "profile[['Age']].value_counts().sort_index(ascending=True)"
      ],
      "metadata": {
        "colab": {
          "base_uri": "https://localhost:8080/"
        },
        "id": "_TNALvfp0E_z",
        "outputId": "44a8f521-ca11-46a2-9dbb-133a0f8619c7"
      },
      "execution_count": null,
      "outputs": [
        {
          "output_type": "execute_result",
          "data": {
            "text/plain": [
              "Age\n",
              "18     15\n",
              "19     12\n",
              "20     16\n",
              "21     13\n",
              "22      7\n",
              "23     11\n",
              "24     13\n",
              "25     15\n",
              "26      9\n",
              "27     17\n",
              "28     16\n",
              "29     17\n",
              "30     21\n",
              "31     14\n",
              "32     14\n",
              "33     12\n",
              "34     14\n",
              "35      9\n",
              "36      6\n",
              "37     13\n",
              "38     16\n",
              "39     13\n",
              "40      7\n",
              "dtype: int64"
            ]
          },
          "metadata": {},
          "execution_count": 139
        }
      ]
    },
    {
      "cell_type": "code",
      "source": [
        "#Membuat visualisasi distribusi harga masuk ke tempat wisata di Kota Yogyakarta dengan data yang masih mengandung outliers\n",
        "plt.figure(figsize=(7,3))\n",
        "sns.boxplot(x=wisata['Price'])\n",
        "plt.title('Distribusi rentang harga tiket masuk tempat wisata Kota Yogyakarta')"
      ],
      "metadata": {
        "colab": {
          "base_uri": "https://localhost:8080/",
          "height": 260
        },
        "id": "kE2Aui_ZBlwj",
        "outputId": "ff07f5c9-21c9-440f-99f3-a257d3cbe140"
      },
      "execution_count": null,
      "outputs": [
        {
          "output_type": "execute_result",
          "data": {
            "text/plain": [
              "Text(0.5, 1.0, 'Distribusi rentang harga tiket masuk tempat wisata Kota Yogyakarta')"
            ]
          },
          "metadata": {},
          "execution_count": 140
        },
        {
          "output_type": "display_data",
          "data": {
            "image/png": "[encoded data removed]",
            "text/plain": [
              "<Figure size 504x216 with 1 Axes>"
            ]
          },
          "metadata": {
            "needs_background": "light"
          }
        }
      ]
    },
    {
      "cell_type": "code",
      "source": [
        "#Mengecek deskriptif data sebelum handling outliers, Fokus pada kolom price \n",
        "wisata.describe() #Lihat pada kolom price, nilai max nya jatuh pada Rp500.000"
      ],
      "metadata": {
        "colab": {
          "base_uri": "https://localhost:8080/",
          "height": 300
        },
        "id": "rxrTqz3MD3at",
        "outputId": "8e88c142-0061-49e4-c720-f68c38183561"
      },
      "execution_count": null,
      "outputs": [
        {
          "output_type": "execute_result",
          "data": {
            "text/html": [
              "\n",
              "  <div id=\"df-e7058d61-8b7b-471c-beb5-8e2aec753135\">\n",
              "    <div class=\"colab-df-container\">\n",
              "      <div>\n",
              "<style scoped>\n",
              "    .dataframe tbody tr th:only-of-type {\n",
              "        vertical-align: middle;\n",
              "    }\n",
              "\n",
              "    .dataframe tbody tr th {\n",
              "        vertical-align: top;\n",
              "    }\n",
              "\n",
              "    .dataframe thead th {\n",
              "        text-align: right;\n",
              "    }\n",
              "</style>\n",
              "<table border=\"1\" class=\"dataframe\">\n",
              "  <thead>\n",
              "    <tr style=\"text-align: right;\">\n",
              "      <th></th>\n",
              "      <th>Place_Id</th>\n",
              "      <th>Price</th>\n",
              "      <th>Rating</th>\n",
              "      <th>Lat</th>\n",
              "      <th>Long</th>\n",
              "    </tr>\n",
              "  </thead>\n",
              "  <tbody>\n",
              "    <tr>\n",
              "      <th>count</th>\n",
              "      <td>126.000000</td>\n",
              "      <td>126.000000</td>\n",
              "      <td>126.000000</td>\n",
              "      <td>126.000000</td>\n",
              "      <td>126.000000</td>\n",
              "    </tr>\n",
              "    <tr>\n",
              "      <th>mean</th>\n",
              "      <td>147.500000</td>\n",
              "      <td>19456.349206</td>\n",
              "      <td>4.466667</td>\n",
              "      <td>-7.890662</td>\n",
              "      <td>110.423022</td>\n",
              "    </tr>\n",
              "    <tr>\n",
              "      <th>std</th>\n",
              "      <td>36.517119</td>\n",
              "      <td>55219.055401</td>\n",
              "      <td>0.173897</td>\n",
              "      <td>0.166461</td>\n",
              "      <td>0.140273</td>\n",
              "    </tr>\n",
              "    <tr>\n",
              "      <th>min</th>\n",
              "      <td>85.000000</td>\n",
              "      <td>0.000000</td>\n",
              "      <td>4.000000</td>\n",
              "      <td>-8.197894</td>\n",
              "      <td>110.019826</td>\n",
              "    </tr>\n",
              "    <tr>\n",
              "      <th>25%</th>\n",
              "      <td>116.250000</td>\n",
              "      <td>2500.000000</td>\n",
              "      <td>4.400000</td>\n",
              "      <td>-8.011420</td>\n",
              "      <td>110.363687</td>\n",
              "    </tr>\n",
              "    <tr>\n",
              "      <th>50%</th>\n",
              "      <td>147.500000</td>\n",
              "      <td>5000.000000</td>\n",
              "      <td>4.500000</td>\n",
              "      <td>-7.816139</td>\n",
              "      <td>110.416944</td>\n",
              "    </tr>\n",
              "    <tr>\n",
              "      <th>75%</th>\n",
              "      <td>178.750000</td>\n",
              "      <td>10000.000000</td>\n",
              "      <td>4.600000</td>\n",
              "      <td>-7.793766</td>\n",
              "      <td>110.492845</td>\n",
              "    </tr>\n",
              "    <tr>\n",
              "      <th>max</th>\n",
              "      <td>210.000000</td>\n",
              "      <td>500000.000000</td>\n",
              "      <td>5.000000</td>\n",
              "      <td>-7.582920</td>\n",
              "      <td>110.720853</td>\n",
              "    </tr>\n",
              "  </tbody>\n",
              "</table>\n",
              "</div>\n",
              "      <button class=\"colab-df-convert\" onclick=\"convertToInteractive('df-e7058d61-8b7b-471c-beb5-8e2aec753135')\"\n",
              "              title=\"Convert this dataframe to an interactive table.\"\n",
              "              style=\"display:none;\">\n",
              "        \n",
              "  <svg xmlns=\"http://www.w3.org/2000/svg\" height=\"24px\"viewBox=\"0 0 24 24\"\n",
              "       width=\"24px\">\n",
              "    <path d=\"M0 0h24v24H0V0z\" fill=\"none\"/>\n",
              "    <path d=\"M18.56 5.44l.94 2.06.94-2.06 2.06-.94-2.06-.94-.94-2.06-.94 2.06-2.06.94zm-11 1L8.5 8.5l.94-2.06 2.06-.94-2.06-.94L8.5 2.5l-.94 2.06-2.06.94zm10 10l.94 2.06.94-2.06 2.06-.94-2.06-.94-.94-2.06-.94 2.06-2.06.94z\"/><path d=\"M17.41 7.96l-1.37-1.37c-.4-.4-.92-.59-1.43-.59-.52 0-1.04.2-1.43.59L10.3 9.45l-7.72 7.72c-.78.78-.78 2.05 0 2.83L4 21.41c.39.39.9.59 1.41.59.51 0 1.02-.2 1.41-.59l7.78-7.78 2.81-2.81c.8-.78.8-2.07 0-2.86zM5.41 20L4 18.59l7.72-7.72 1.47 1.35L5.41 20z\"/>\n",
              "  </svg>\n",
              "      </button>\n",
              "      \n",
              "  <style>\n",
              "    .colab-df-container {\n",
              "      display:flex;\n",
              "      flex-wrap:wrap;\n",
              "      gap: 12px;\n",
              "    }\n",
              "\n",
              "    .colab-df-convert {\n",
              "      background-color: #E8F0FE;\n",
              "      border: none;\n",
              "      border-radius: 50%;\n",
              "      cursor: pointer;\n",
              "      display: none;\n",
              "      fill: #1967D2;\n",
              "      height: 32px;\n",
              "      padding: 0 0 0 0;\n",
              "      width: 32px;\n",
              "    }\n",
              "\n",
              "    .colab-df-convert:hover {\n",
              "      background-color: #E2EBFA;\n",
              "      box-shadow: 0px 1px 2px rgba(60, 64, 67, 0.3), 0px 1px 3px 1px rgba(60, 64, 67, 0.15);\n",
              "      fill: #174EA6;\n",
              "    }\n",
              "\n",
              "    [theme=dark] .colab-df-convert {\n",
              "      background-color: #3B4455;\n",
              "      fill: #D2E3FC;\n",
              "    }\n",
              "\n",
              "    [theme=dark] .colab-df-convert:hover {\n",
              "      background-color: #434B5C;\n",
              "      box-shadow: 0px 1px 3px 1px rgba(0, 0, 0, 0.15);\n",
              "      filter: drop-shadow(0px 1px 2px rgba(0, 0, 0, 0.3));\n",
              "      fill: #FFFFFF;\n",
              "    }\n",
              "  </style>\n",
              "\n",
              "      <script>\n",
              "        const buttonEl =\n",
              "          document.querySelector('#df-e7058d61-8b7b-471c-beb5-8e2aec753135 button.colab-df-convert');\n",
              "        buttonEl.style.display =\n",
              "          google.colab.kernel.accessAllowed ? 'block' : 'none';\n",
              "\n",
              "        async function convertToInteractive(key) {\n",
              "          const element = document.querySelector('#df-e7058d61-8b7b-471c-beb5-8e2aec753135');\n",
              "          const dataTable =\n",
              "            await google.colab.kernel.invokeFunction('convertToInteractive',\n",
              "                                                     [key], {});\n",
              "          if (!dataTable) return;\n",
              "\n",
              "          const docLinkHtml = 'Like what you see? Visit the ' +\n",
              "            '<a target=\"_blank\" href=https://colab.research.google.com/notebooks/data_table.ipynb>data table notebook</a>'\n",
              "            + ' to learn more about interactive tables.';\n",
              "          element.innerHTML = '';\n",
              "          dataTable['output_type'] = 'display_data';\n",
              "          await google.colab.output.renderOutput(dataTable, element);\n",
              "          const docLink = document.createElement('div');\n",
              "          docLink.innerHTML = docLinkHtml;\n",
              "          element.appendChild(docLink);\n",
              "        }\n",
              "      </script>\n",
              "    </div>\n",
              "  </div>\n",
              "  "
            ],
            "text/plain": [
              "         Place_Id          Price      Rating         Lat        Long\n",
              "count  126.000000     126.000000  126.000000  126.000000  126.000000\n",
              "mean   147.500000   19456.349206    4.466667   -7.890662  110.423022\n",
              "std     36.517119   55219.055401    0.173897    0.166461    0.140273\n",
              "min     85.000000       0.000000    4.000000   -8.197894  110.019826\n",
              "25%    116.250000    2500.000000    4.400000   -8.011420  110.363687\n",
              "50%    147.500000    5000.000000    4.500000   -7.816139  110.416944\n",
              "75%    178.750000   10000.000000    4.600000   -7.793766  110.492845\n",
              "max    210.000000  500000.000000    5.000000   -7.582920  110.720853"
            ]
          },
          "metadata": {},
          "execution_count": 141
        }
      ]
    },
    {
      "cell_type": "code",
      "source": [
        "#Cek Ukura  dataset sebelum handling outliers \n",
        "wisata.shape"
      ],
      "metadata": {
        "colab": {
          "base_uri": "https://localhost:8080/"
        },
        "id": "1-lN2RPBEnD_",
        "outputId": "5bbb35ee-fd47-4bbf-c937-ffbfe0778215"
      },
      "execution_count": null,
      "outputs": [
        {
          "output_type": "execute_result",
          "data": {
            "text/plain": [
              "(126, 10)"
            ]
          },
          "metadata": {},
          "execution_count": 142
        }
      ]
    },
    {
      "cell_type": "code",
      "source": [
        "#Handling Outliers \n",
        "Q1 = wisata.quantile(0.25)\n",
        "Q3 = wisata.quantile(0.75)\n",
        "IQR=Q3-Q1\n",
        "wisata=wisata[~((wisata<(Q1-1.5*IQR))|(wisata>(Q3+1.5*IQR))).any(axis=1)]\n",
        " \n",
        "# Cek ukuran dataset setelah kita drop outliers\n",
        "wisata.shape\n"
      ],
      "metadata": {
        "colab": {
          "base_uri": "https://localhost:8080/"
        },
        "id": "oCPJOsipBBzm",
        "outputId": "4be9f181-a205-427a-ed48-098d8324dd56"
      },
      "execution_count": null,
      "outputs": [
        {
          "output_type": "execute_result",
          "data": {
            "text/plain": [
              "(87, 10)"
            ]
          },
          "metadata": {},
          "execution_count": 143
        }
      ]
    },
    {
      "cell_type": "code",
      "source": [
        "#Visualisasi distribusi harga masuk ke tempat wisata di Yogyakarta dengan data yang sudah tidak mengandung outliers\n",
        "plt.figure(figsize=(7,3))\n",
        "sns.boxplot(x=wisata['Price'])\n",
        "plt.title('Distribusi rentang harga tiket masuk tempat wisata Kota Yogyakarta')"
      ],
      "metadata": {
        "colab": {
          "base_uri": "https://localhost:8080/",
          "height": 260
        },
        "id": "nAhcPpbwDUc8",
        "outputId": "4ae046c3-6b9f-44b5-a064-3a2eb575bd3d"
      },
      "execution_count": null,
      "outputs": [
        {
          "output_type": "execute_result",
          "data": {
            "text/plain": [
              "Text(0.5, 1.0, 'Distribusi rentang harga tiket masuk tempat wisata Kota Yogyakarta')"
            ]
          },
          "metadata": {},
          "execution_count": 144
        },
        {
          "output_type": "display_data",
          "data": {
            "image/png": "[encoded data removed]",
            "text/plain": [
              "<Figure size 504x216 with 1 Axes>"
            ]
          },
          "metadata": {
            "needs_background": "light"
          }
        }
      ]
    },
    {
      "cell_type": "code",
      "source": [
        "#Melihat informasi statistik pada data wisata setelah handling outliers\n",
        "wisata.describe() #Lihatlah nilai max dari kolom price hanya jatuh pada Rp200.000"
      ],
      "metadata": {
        "colab": {
          "base_uri": "https://localhost:8080/",
          "height": 300
        },
        "id": "Ury68T_q15kZ",
        "outputId": "4beaa2d7-90b1-40d2-a28b-4f635689231d"
      },
      "execution_count": null,
      "outputs": [
        {
          "output_type": "execute_result",
          "data": {
            "text/html": [
              "\n",
              "  <div id=\"df-e158cce7-7873-4919-8d24-787c2d2ce64f\">\n",
              "    <div class=\"colab-df-container\">\n",
              "      <div>\n",
              "<style scoped>\n",
              "    .dataframe tbody tr th:only-of-type {\n",
              "        vertical-align: middle;\n",
              "    }\n",
              "\n",
              "    .dataframe tbody tr th {\n",
              "        vertical-align: top;\n",
              "    }\n",
              "\n",
              "    .dataframe thead th {\n",
              "        text-align: right;\n",
              "    }\n",
              "</style>\n",
              "<table border=\"1\" class=\"dataframe\">\n",
              "  <thead>\n",
              "    <tr style=\"text-align: right;\">\n",
              "      <th></th>\n",
              "      <th>Place_Id</th>\n",
              "      <th>Price</th>\n",
              "      <th>Rating</th>\n",
              "      <th>Lat</th>\n",
              "      <th>Long</th>\n",
              "    </tr>\n",
              "  </thead>\n",
              "  <tbody>\n",
              "    <tr>\n",
              "      <th>count</th>\n",
              "      <td>87.000000</td>\n",
              "      <td>87.000000</td>\n",
              "      <td>87.000000</td>\n",
              "      <td>87.000000</td>\n",
              "      <td>87.000000</td>\n",
              "    </tr>\n",
              "    <tr>\n",
              "      <th>mean</th>\n",
              "      <td>143.517241</td>\n",
              "      <td>5936.781609</td>\n",
              "      <td>4.482759</td>\n",
              "      <td>-7.902842</td>\n",
              "      <td>110.439876</td>\n",
              "    </tr>\n",
              "    <tr>\n",
              "      <th>std</th>\n",
              "      <td>35.599145</td>\n",
              "      <td>5259.434821</td>\n",
              "      <td>0.124084</td>\n",
              "      <td>0.165280</td>\n",
              "      <td>0.105313</td>\n",
              "    </tr>\n",
              "    <tr>\n",
              "      <th>min</th>\n",
              "      <td>85.000000</td>\n",
              "      <td>0.000000</td>\n",
              "      <td>4.200000</td>\n",
              "      <td>-8.182703</td>\n",
              "      <td>110.236730</td>\n",
              "    </tr>\n",
              "    <tr>\n",
              "      <th>25%</th>\n",
              "      <td>112.000000</td>\n",
              "      <td>2000.000000</td>\n",
              "      <td>4.400000</td>\n",
              "      <td>-8.025732</td>\n",
              "      <td>110.364318</td>\n",
              "    </tr>\n",
              "    <tr>\n",
              "      <th>50%</th>\n",
              "      <td>142.000000</td>\n",
              "      <td>5000.000000</td>\n",
              "      <td>4.500000</td>\n",
              "      <td>-7.836321</td>\n",
              "      <td>110.424333</td>\n",
              "    </tr>\n",
              "    <tr>\n",
              "      <th>75%</th>\n",
              "      <td>171.500000</td>\n",
              "      <td>10000.000000</td>\n",
              "      <td>4.600000</td>\n",
              "      <td>-7.800127</td>\n",
              "      <td>110.503731</td>\n",
              "    </tr>\n",
              "    <tr>\n",
              "      <th>max</th>\n",
              "      <td>209.000000</td>\n",
              "      <td>20000.000000</td>\n",
              "      <td>4.800000</td>\n",
              "      <td>-7.582920</td>\n",
              "      <td>110.683239</td>\n",
              "    </tr>\n",
              "  </tbody>\n",
              "</table>\n",
              "</div>\n",
              "      <button class=\"colab-df-convert\" onclick=\"convertToInteractive('df-e158cce7-7873-4919-8d24-787c2d2ce64f')\"\n",
              "              title=\"Convert this dataframe to an interactive table.\"\n",
              "              style=\"display:none;\">\n",
              "        \n",
              "  <svg xmlns=\"http://www.w3.org/2000/svg\" height=\"24px\"viewBox=\"0 0 24 24\"\n",
              "       width=\"24px\">\n",
              "    <path d=\"M0 0h24v24H0V0z\" fill=\"none\"/>\n",
              "    <path d=\"M18.56 5.44l.94 2.06.94-2.06 2.06-.94-2.06-.94-.94-2.06-.94 2.06-2.06.94zm-11 1L8.5 8.5l.94-2.06 2.06-.94-2.06-.94L8.5 2.5l-.94 2.06-2.06.94zm10 10l.94 2.06.94-2.06 2.06-.94-2.06-.94-.94-2.06-.94 2.06-2.06.94z\"/><path d=\"M17.41 7.96l-1.37-1.37c-.4-.4-.92-.59-1.43-.59-.52 0-1.04.2-1.43.59L10.3 9.45l-7.72 7.72c-.78.78-.78 2.05 0 2.83L4 21.41c.39.39.9.59 1.41.59.51 0 1.02-.2 1.41-.59l7.78-7.78 2.81-2.81c.8-.78.8-2.07 0-2.86zM5.41 20L4 18.59l7.72-7.72 1.47 1.35L5.41 20z\"/>\n",
              "  </svg>\n",
              "      </button>\n",
              "      \n",
              "  <style>\n",
              "    .colab-df-container {\n",
              "      display:flex;\n",
              "      flex-wrap:wrap;\n",
              "      gap: 12px;\n",
              "    }\n",
              "\n",
              "    .colab-df-convert {\n",
              "      background-color: #E8F0FE;\n",
              "      border: none;\n",
              "      border-radius: 50%;\n",
              "      cursor: pointer;\n",
              "      display: none;\n",
              "      fill: #1967D2;\n",
              "      height: 32px;\n",
              "      padding: 0 0 0 0;\n",
              "      width: 32px;\n",
              "    }\n",
              "\n",
              "    .colab-df-convert:hover {\n",
              "      background-color: #E2EBFA;\n",
              "      box-shadow: 0px 1px 2px rgba(60, 64, 67, 0.3), 0px 1px 3px 1px rgba(60, 64, 67, 0.15);\n",
              "      fill: #174EA6;\n",
              "    }\n",
              "\n",
              "    [theme=dark] .colab-df-convert {\n",
              "      background-color: #3B4455;\n",
              "      fill: #D2E3FC;\n",
              "    }\n",
              "\n",
              "    [theme=dark] .colab-df-convert:hover {\n",
              "      background-color: #434B5C;\n",
              "      box-shadow: 0px 1px 3px 1px rgba(0, 0, 0, 0.15);\n",
              "      filter: drop-shadow(0px 1px 2px rgba(0, 0, 0, 0.3));\n",
              "      fill: #FFFFFF;\n",
              "    }\n",
              "  </style>\n",
              "\n",
              "      <script>\n",
              "        const buttonEl =\n",
              "          document.querySelector('#df-e158cce7-7873-4919-8d24-787c2d2ce64f button.colab-df-convert');\n",
              "        buttonEl.style.display =\n",
              "          google.colab.kernel.accessAllowed ? 'block' : 'none';\n",
              "\n",
              "        async function convertToInteractive(key) {\n",
              "          const element = document.querySelector('#df-e158cce7-7873-4919-8d24-787c2d2ce64f');\n",
              "          const dataTable =\n",
              "            await google.colab.kernel.invokeFunction('convertToInteractive',\n",
              "                                                     [key], {});\n",
              "          if (!dataTable) return;\n",
              "\n",
              "          const docLinkHtml = 'Like what you see? Visit the ' +\n",
              "            '<a target=\"_blank\" href=https://colab.research.google.com/notebooks/data_table.ipynb>data table notebook</a>'\n",
              "            + ' to learn more about interactive tables.';\n",
              "          element.innerHTML = '';\n",
              "          dataTable['output_type'] = 'display_data';\n",
              "          await google.colab.output.renderOutput(dataTable, element);\n",
              "          const docLink = document.createElement('div');\n",
              "          docLink.innerHTML = docLinkHtml;\n",
              "          element.appendChild(docLink);\n",
              "        }\n",
              "      </script>\n",
              "    </div>\n",
              "  </div>\n",
              "  "
            ],
            "text/plain": [
              "         Place_Id         Price     Rating        Lat        Long\n",
              "count   87.000000     87.000000  87.000000  87.000000   87.000000\n",
              "mean   143.517241   5936.781609   4.482759  -7.902842  110.439876\n",
              "std     35.599145   5259.434821   0.124084   0.165280    0.105313\n",
              "min     85.000000      0.000000   4.200000  -8.182703  110.236730\n",
              "25%    112.000000   2000.000000   4.400000  -8.025732  110.364318\n",
              "50%    142.000000   5000.000000   4.500000  -7.836321  110.424333\n",
              "75%    171.500000  10000.000000   4.600000  -7.800127  110.503731\n",
              "max    209.000000  20000.000000   4.800000  -7.582920  110.683239"
            ]
          },
          "metadata": {},
          "execution_count": 145
        }
      ]
    },
    {
      "cell_type": "code",
      "source": [
        "#Mendeteksi Outlier\n",
        "wisata.shape"
      ],
      "metadata": {
        "colab": {
          "base_uri": "https://localhost:8080/"
        },
        "id": "lAE6ifwMAgHR",
        "outputId": "87aad9a7-5386-4da3-a4cf-f10c58af890f"
      },
      "execution_count": null,
      "outputs": [
        {
          "output_type": "execute_result",
          "data": {
            "text/plain": [
              "(87, 10)"
            ]
          },
          "metadata": {},
          "execution_count": 146
        }
      ]
    },
    {
      "cell_type": "code",
      "source": [
        "wisata.describe(include = 'object')"
      ],
      "metadata": {
        "colab": {
          "base_uri": "https://localhost:8080/",
          "height": 175
        },
        "id": "oYxeOykQSL2c",
        "outputId": "278ffdb6-a7ef-46d8-8616-21097e473fe6"
      },
      "execution_count": null,
      "outputs": [
        {
          "output_type": "execute_result",
          "data": {
            "text/html": [
              "\n",
              "  <div id=\"df-8f560b41-7054-4767-b1fc-2f0c5264e637\">\n",
              "    <div class=\"colab-df-container\">\n",
              "      <div>\n",
              "<style scoped>\n",
              "    .dataframe tbody tr th:only-of-type {\n",
              "        vertical-align: middle;\n",
              "    }\n",
              "\n",
              "    .dataframe tbody tr th {\n",
              "        vertical-align: top;\n",
              "    }\n",
              "\n",
              "    .dataframe thead th {\n",
              "        text-align: right;\n",
              "    }\n",
              "</style>\n",
              "<table border=\"1\" class=\"dataframe\">\n",
              "  <thead>\n",
              "    <tr style=\"text-align: right;\">\n",
              "      <th></th>\n",
              "      <th>Place_Name</th>\n",
              "      <th>Description</th>\n",
              "      <th>Category</th>\n",
              "      <th>City</th>\n",
              "      <th>Coordinate</th>\n",
              "    </tr>\n",
              "  </thead>\n",
              "  <tbody>\n",
              "    <tr>\n",
              "      <th>count</th>\n",
              "      <td>87</td>\n",
              "      <td>87</td>\n",
              "      <td>87</td>\n",
              "      <td>87</td>\n",
              "      <td>87</td>\n",
              "    </tr>\n",
              "    <tr>\n",
              "      <th>unique</th>\n",
              "      <td>87</td>\n",
              "      <td>87</td>\n",
              "      <td>5</td>\n",
              "      <td>1</td>\n",
              "      <td>87</td>\n",
              "    </tr>\n",
              "    <tr>\n",
              "      <th>top</th>\n",
              "      <td>Museum Gunung Merapi</td>\n",
              "      <td>Pantai Indrayanti menawarkan keindahan alam ya...</td>\n",
              "      <td>Taman Hiburan</td>\n",
              "      <td>Yogyakarta</td>\n",
              "      <td>{'lat': -7.782943699999998, 'lng': 110.3670548}</td>\n",
              "    </tr>\n",
              "    <tr>\n",
              "      <th>freq</th>\n",
              "      <td>1</td>\n",
              "      <td>1</td>\n",
              "      <td>28</td>\n",
              "      <td>87</td>\n",
              "      <td>1</td>\n",
              "    </tr>\n",
              "  </tbody>\n",
              "</table>\n",
              "</div>\n",
              "      <button class=\"colab-df-convert\" onclick=\"convertToInteractive('df-8f560b41-7054-4767-b1fc-2f0c5264e637')\"\n",
              "              title=\"Convert this dataframe to an interactive table.\"\n",
              "              style=\"display:none;\">\n",
              "        \n",
              "  <svg xmlns=\"http://www.w3.org/2000/svg\" height=\"24px\"viewBox=\"0 0 24 24\"\n",
              "       width=\"24px\">\n",
              "    <path d=\"M0 0h24v24H0V0z\" fill=\"none\"/>\n",
              "    <path d=\"M18.56 5.44l.94 2.06.94-2.06 2.06-.94-2.06-.94-.94-2.06-.94 2.06-2.06.94zm-11 1L8.5 8.5l.94-2.06 2.06-.94-2.06-.94L8.5 2.5l-.94 2.06-2.06.94zm10 10l.94 2.06.94-2.06 2.06-.94-2.06-.94-.94-2.06-.94 2.06-2.06.94z\"/><path d=\"M17.41 7.96l-1.37-1.37c-.4-.4-.92-.59-1.43-.59-.52 0-1.04.2-1.43.59L10.3 9.45l-7.72 7.72c-.78.78-.78 2.05 0 2.83L4 21.41c.39.39.9.59 1.41.59.51 0 1.02-.2 1.41-.59l7.78-7.78 2.81-2.81c.8-.78.8-2.07 0-2.86zM5.41 20L4 18.59l7.72-7.72 1.47 1.35L5.41 20z\"/>\n",
              "  </svg>\n",
              "      </button>\n",
              "      \n",
              "  <style>\n",
              "    .colab-df-container {\n",
              "      display:flex;\n",
              "      flex-wrap:wrap;\n",
              "      gap: 12px;\n",
              "    }\n",
              "\n",
              "    .colab-df-convert {\n",
              "      background-color: #E8F0FE;\n",
              "      border: none;\n",
              "      border-radius: 50%;\n",
              "      cursor: pointer;\n",
              "      display: none;\n",
              "      fill: #1967D2;\n",
              "      height: 32px;\n",
              "      padding: 0 0 0 0;\n",
              "      width: 32px;\n",
              "    }\n",
              "\n",
              "    .colab-df-convert:hover {\n",
              "      background-color: #E2EBFA;\n",
              "      box-shadow: 0px 1px 2px rgba(60, 64, 67, 0.3), 0px 1px 3px 1px rgba(60, 64, 67, 0.15);\n",
              "      fill: #174EA6;\n",
              "    }\n",
              "\n",
              "    [theme=dark] .colab-df-convert {\n",
              "      background-color: #3B4455;\n",
              "      fill: #D2E3FC;\n",
              "    }\n",
              "\n",
              "    [theme=dark] .colab-df-convert:hover {\n",
              "      background-color: #434B5C;\n",
              "      box-shadow: 0px 1px 3px 1px rgba(0, 0, 0, 0.15);\n",
              "      filter: drop-shadow(0px 1px 2px rgba(0, 0, 0, 0.3));\n",
              "      fill: #FFFFFF;\n",
              "    }\n",
              "  </style>\n",
              "\n",
              "      <script>\n",
              "        const buttonEl =\n",
              "          document.querySelector('#df-8f560b41-7054-4767-b1fc-2f0c5264e637 button.colab-df-convert');\n",
              "        buttonEl.style.display =\n",
              "          google.colab.kernel.accessAllowed ? 'block' : 'none';\n",
              "\n",
              "        async function convertToInteractive(key) {\n",
              "          const element = document.querySelector('#df-8f560b41-7054-4767-b1fc-2f0c5264e637');\n",
              "          const dataTable =\n",
              "            await google.colab.kernel.invokeFunction('convertToInteractive',\n",
              "                                                     [key], {});\n",
              "          if (!dataTable) return;\n",
              "\n",
              "          const docLinkHtml = 'Like what you see? Visit the ' +\n",
              "            '<a target=\"_blank\" href=https://colab.research.google.com/notebooks/data_table.ipynb>data table notebook</a>'\n",
              "            + ' to learn more about interactive tables.';\n",
              "          element.innerHTML = '';\n",
              "          dataTable['output_type'] = 'display_data';\n",
              "          await google.colab.output.renderOutput(dataTable, element);\n",
              "          const docLink = document.createElement('div');\n",
              "          docLink.innerHTML = docLinkHtml;\n",
              "          element.appendChild(docLink);\n",
              "        }\n",
              "      </script>\n",
              "    </div>\n",
              "  </div>\n",
              "  "
            ],
            "text/plain": [
              "                  Place_Name  ...                                       Coordinate\n",
              "count                     87  ...                                               87\n",
              "unique                    87  ...                                               87\n",
              "top     Museum Gunung Merapi  ...  {'lat': -7.782943699999998, 'lng': 110.3670548}\n",
              "freq                       1  ...                                                1\n",
              "\n",
              "[4 rows x 5 columns]"
            ]
          },
          "metadata": {},
          "execution_count": 147
        }
      ]
    },
    {
      "cell_type": "code",
      "source": [
        "from IPython.core.pylabtools import figsize\n",
        "#Filtering asal kota pengunjung ke kota Yogyakarta\n",
        "asal = profile['Location'].apply(lambda x : x.split(',')[0])\n",
        "\n",
        "#Visualisasi\n",
        "plt.figure(figsize=(7,4))\n",
        "sns.countplot(y=asal)\n",
        "plt.title('Jumlah Asal Kota Pengunjung ke Kota Yogyakarta')\n",
        "plt.show()"
      ],
      "metadata": {
        "colab": {
          "base_uri": "https://localhost:8080/",
          "height": 295
        },
        "id": "PZXtwNFHHIGi",
        "outputId": "ba1cb98f-6487-4682-9d83-d4367bdb959b"
      },
      "execution_count": null,
      "outputs": [
        {
          "output_type": "display_data",
          "data": {
            "image/png": "[encoded data removed]",
            "text/plain": [
              "<Figure size 504x288 with 1 Axes>"
            ]
          },
          "metadata": {
            "needs_background": "light"
          }
        }
      ]
    },
    {
      "cell_type": "markdown",
      "source": [
        "Persiapan Data Untuk Modelling"
      ],
      "metadata": {
        "id": "NhHCMbc2ZFoG"
      }
    },
    {
      "cell_type": "code",
      "source": [
        "#Menyalin dataframe rating\n",
        "df = rating.copy()\n",
        "df.head()"
      ],
      "metadata": {
        "colab": {
          "base_uri": "https://localhost:8080/",
          "height": 206
        },
        "id": "KBDkwpBQKEe1",
        "outputId": "1e234c45-6662-4323-e59c-ce543820cc9f"
      },
      "execution_count": null,
      "outputs": [
        {
          "output_type": "execute_result",
          "data": {
            "text/html": [
              "\n",
              "  <div id=\"df-b57b90e4-d812-47e4-9830-ee6df430e4d3\">\n",
              "    <div class=\"colab-df-container\">\n",
              "      <div>\n",
              "<style scoped>\n",
              "    .dataframe tbody tr th:only-of-type {\n",
              "        vertical-align: middle;\n",
              "    }\n",
              "\n",
              "    .dataframe tbody tr th {\n",
              "        vertical-align: top;\n",
              "    }\n",
              "\n",
              "    .dataframe thead th {\n",
              "        text-align: right;\n",
              "    }\n",
              "</style>\n",
              "<table border=\"1\" class=\"dataframe\">\n",
              "  <thead>\n",
              "    <tr style=\"text-align: right;\">\n",
              "      <th></th>\n",
              "      <th>User_Id</th>\n",
              "      <th>Place_Id</th>\n",
              "      <th>Place_Ratings</th>\n",
              "    </tr>\n",
              "  </thead>\n",
              "  <tbody>\n",
              "    <tr>\n",
              "      <th>0</th>\n",
              "      <td>2</td>\n",
              "      <td>85</td>\n",
              "      <td>4</td>\n",
              "    </tr>\n",
              "    <tr>\n",
              "      <th>1</th>\n",
              "      <td>23</td>\n",
              "      <td>85</td>\n",
              "      <td>4</td>\n",
              "    </tr>\n",
              "    <tr>\n",
              "      <th>2</th>\n",
              "      <td>25</td>\n",
              "      <td>85</td>\n",
              "      <td>2</td>\n",
              "    </tr>\n",
              "    <tr>\n",
              "      <th>3</th>\n",
              "      <td>39</td>\n",
              "      <td>85</td>\n",
              "      <td>5</td>\n",
              "    </tr>\n",
              "    <tr>\n",
              "      <th>4</th>\n",
              "      <td>43</td>\n",
              "      <td>85</td>\n",
              "      <td>4</td>\n",
              "    </tr>\n",
              "  </tbody>\n",
              "</table>\n",
              "</div>\n",
              "      <button class=\"colab-df-convert\" onclick=\"convertToInteractive('df-b57b90e4-d812-47e4-9830-ee6df430e4d3')\"\n",
              "              title=\"Convert this dataframe to an interactive table.\"\n",
              "              style=\"display:none;\">\n",
              "        \n",
              "  <svg xmlns=\"http://www.w3.org/2000/svg\" height=\"24px\"viewBox=\"0 0 24 24\"\n",
              "       width=\"24px\">\n",
              "    <path d=\"M0 0h24v24H0V0z\" fill=\"none\"/>\n",
              "    <path d=\"M18.56 5.44l.94 2.06.94-2.06 2.06-.94-2.06-.94-.94-2.06-.94 2.06-2.06.94zm-11 1L8.5 8.5l.94-2.06 2.06-.94-2.06-.94L8.5 2.5l-.94 2.06-2.06.94zm10 10l.94 2.06.94-2.06 2.06-.94-2.06-.94-.94-2.06-.94 2.06-2.06.94z\"/><path d=\"M17.41 7.96l-1.37-1.37c-.4-.4-.92-.59-1.43-.59-.52 0-1.04.2-1.43.59L10.3 9.45l-7.72 7.72c-.78.78-.78 2.05 0 2.83L4 21.41c.39.39.9.59 1.41.59.51 0 1.02-.2 1.41-.59l7.78-7.78 2.81-2.81c.8-.78.8-2.07 0-2.86zM5.41 20L4 18.59l7.72-7.72 1.47 1.35L5.41 20z\"/>\n",
              "  </svg>\n",
              "      </button>\n",
              "      \n",
              "  <style>\n",
              "    .colab-df-container {\n",
              "      display:flex;\n",
              "      flex-wrap:wrap;\n",
              "      gap: 12px;\n",
              "    }\n",
              "\n",
              "    .colab-df-convert {\n",
              "      background-color: #E8F0FE;\n",
              "      border: none;\n",
              "      border-radius: 50%;\n",
              "      cursor: pointer;\n",
              "      display: none;\n",
              "      fill: #1967D2;\n",
              "      height: 32px;\n",
              "      padding: 0 0 0 0;\n",
              "      width: 32px;\n",
              "    }\n",
              "\n",
              "    .colab-df-convert:hover {\n",
              "      background-color: #E2EBFA;\n",
              "      box-shadow: 0px 1px 2px rgba(60, 64, 67, 0.3), 0px 1px 3px 1px rgba(60, 64, 67, 0.15);\n",
              "      fill: #174EA6;\n",
              "    }\n",
              "\n",
              "    [theme=dark] .colab-df-convert {\n",
              "      background-color: #3B4455;\n",
              "      fill: #D2E3FC;\n",
              "    }\n",
              "\n",
              "    [theme=dark] .colab-df-convert:hover {\n",
              "      background-color: #434B5C;\n",
              "      box-shadow: 0px 1px 3px 1px rgba(0, 0, 0, 0.15);\n",
              "      filter: drop-shadow(0px 1px 2px rgba(0, 0, 0, 0.3));\n",
              "      fill: #FFFFFF;\n",
              "    }\n",
              "  </style>\n",
              "\n",
              "      <script>\n",
              "        const buttonEl =\n",
              "          document.querySelector('#df-b57b90e4-d812-47e4-9830-ee6df430e4d3 button.colab-df-convert');\n",
              "        buttonEl.style.display =\n",
              "          google.colab.kernel.accessAllowed ? 'block' : 'none';\n",
              "\n",
              "        async function convertToInteractive(key) {\n",
              "          const element = document.querySelector('#df-b57b90e4-d812-47e4-9830-ee6df430e4d3');\n",
              "          const dataTable =\n",
              "            await google.colab.kernel.invokeFunction('convertToInteractive',\n",
              "                                                     [key], {});\n",
              "          if (!dataTable) return;\n",
              "\n",
              "          const docLinkHtml = 'Like what you see? Visit the ' +\n",
              "            '<a target=\"_blank\" href=https://colab.research.google.com/notebooks/data_table.ipynb>data table notebook</a>'\n",
              "            + ' to learn more about interactive tables.';\n",
              "          element.innerHTML = '';\n",
              "          dataTable['output_type'] = 'display_data';\n",
              "          await google.colab.output.renderOutput(dataTable, element);\n",
              "          const docLink = document.createElement('div');\n",
              "          docLink.innerHTML = docLinkHtml;\n",
              "          element.appendChild(docLink);\n",
              "        }\n",
              "      </script>\n",
              "    </div>\n",
              "  </div>\n",
              "  "
            ],
            "text/plain": [
              "   User_Id  Place_Id  Place_Ratings\n",
              "0        2        85              4\n",
              "1       23        85              4\n",
              "2       25        85              2\n",
              "3       39        85              5\n",
              "4       43        85              4"
            ]
          },
          "metadata": {},
          "execution_count": 149
        }
      ]
    },
    {
      "cell_type": "markdown",
      "source": [
        "Melakukan encoding"
      ],
      "metadata": {
        "id": "3FlWNFQ-LO7V"
      }
    },
    {
      "cell_type": "code",
      "source": [
        "def dict_encoder(col, data=df):\n",
        "\n",
        "  # Mengubah kolom suatu dataframe menjadi list tanpa nilai yang sama\n",
        "  unique_val = data[col].unique().tolist()\n",
        "\n",
        "  # Melakukan encoding value kolom suatu dataframe ke angka\n",
        "  val_to_val_encoded = {x: i for i, x in enumerate(unique_val)}\n",
        "\n",
        "  # Melakukan proses encoding angka ke value dari kolom suatu dataframe\n",
        "  val_encoded_to_val = {i: x for i, x in enumerate(unique_val)}\n",
        "  return val_to_val_encoded, val_encoded_to_val"
      ],
      "metadata": {
        "id": "R-pikxqdQipc"
      },
      "execution_count": null,
      "outputs": []
    },
    {
      "cell_type": "markdown",
      "source": [
        "Encoding dan Mapping Kolom User"
      ],
      "metadata": {
        "id": "MD5Bq64rQtYd"
      }
    },
    {
      "cell_type": "code",
      "source": [
        "# Encoding User_Id\n",
        "user_to_user_encoded, user_encoded_to_user = dict_encoder('User_Id')\n",
        "\n",
        "# Mapping User_Id ke dataframe\n",
        "df['user'] = df['User_Id'].map(user_to_user_encoded)"
      ],
      "metadata": {
        "id": "AcWyuLiTQzZV"
      },
      "execution_count": null,
      "outputs": []
    },
    {
      "cell_type": "markdown",
      "source": [
        "Encoding dan Mapping Kolom Place"
      ],
      "metadata": {
        "id": "ZD4RYlxJQ5qQ"
      }
    },
    {
      "cell_type": "code",
      "source": [
        "# Encoding Place_Id\n",
        "place_to_place_encoded, place_encoded_to_place = dict_encoder('Place_Id')\n",
        "\n",
        "# Mapping Place_Id ke dataframe place\n",
        "df['place'] = df['Place_Id'].map(place_to_place_encoded)"
      ],
      "metadata": {
        "id": "kaxfG8hPQ5WR"
      },
      "execution_count": null,
      "outputs": []
    },
    {
      "cell_type": "code",
      "source": [
        "#Tahap pengecekan kondisi data kita \n",
        "\n",
        "# Mendapatkan jumlah user\n",
        "num_users = len(user_to_user_encoded)\n",
        "print(num_users)\n",
        " \n",
        "# Mendapatkan jumlah tempat wisata\n",
        "num_place = len(place_to_place_encoded)\n",
        "print(num_place)\n",
        " \n",
        "# Mengubah rating menjadi nilai float\n",
        "df['Place_Ratings'] = df['Place_Ratings'].values.astype(np.float32)\n",
        " \n",
        "# Nilai minimum rating\n",
        "min_rating = min(df['Place_Ratings'])\n",
        " \n",
        "# Nilai maksimal rating\n",
        "max_rating = max(df['Place_Ratings'])\n",
        " \n",
        "print('Number of User: {}, Number of Place: {}, Min Rating: {}, Max Rating: {}'.format(\n",
        "    num_users, num_place, min_rating, max_rating\n",
        "))"
      ],
      "metadata": {
        "colab": {
          "base_uri": "https://localhost:8080/"
        },
        "id": "SFs413C0RCIY",
        "outputId": "5d5ae0ce-4f83-40a5-f1d3-04c92f00b6f7"
      },
      "execution_count": null,
      "outputs": [
        {
          "output_type": "stream",
          "name": "stdout",
          "text": [
            "300\n",
            "126\n",
            "Number of User: 300, Number of Place: 126, Min Rating: 1.0, Max Rating: 5.0\n"
          ]
        }
      ]
    },
    {
      "cell_type": "code",
      "source": [
        "# Mengacak dataset\n",
        "df = df.sample(frac=1, random_state=42)\n",
        "df"
      ],
      "metadata": {
        "colab": {
          "base_uri": "https://localhost:8080/",
          "height": 423
        },
        "id": "-5EZhSQFR4at",
        "outputId": "86d563b3-6db0-4caf-d710-47db8bf6ff63"
      },
      "execution_count": null,
      "outputs": [
        {
          "output_type": "execute_result",
          "data": {
            "text/html": [
              "\n",
              "  <div id=\"df-d1d8990b-b318-41e1-b61d-a3b9e1b3fbaa\">\n",
              "    <div class=\"colab-df-container\">\n",
              "      <div>\n",
              "<style scoped>\n",
              "    .dataframe tbody tr th:only-of-type {\n",
              "        vertical-align: middle;\n",
              "    }\n",
              "\n",
              "    .dataframe tbody tr th {\n",
              "        vertical-align: top;\n",
              "    }\n",
              "\n",
              "    .dataframe thead th {\n",
              "        text-align: right;\n",
              "    }\n",
              "</style>\n",
              "<table border=\"1\" class=\"dataframe\">\n",
              "  <thead>\n",
              "    <tr style=\"text-align: right;\">\n",
              "      <th></th>\n",
              "      <th>User_Id</th>\n",
              "      <th>Place_Id</th>\n",
              "      <th>Place_Ratings</th>\n",
              "      <th>user</th>\n",
              "      <th>place</th>\n",
              "    </tr>\n",
              "  </thead>\n",
              "  <tbody>\n",
              "    <tr>\n",
              "      <th>729</th>\n",
              "      <td>194</td>\n",
              "      <td>115</td>\n",
              "      <td>4.0</td>\n",
              "      <td>130</td>\n",
              "      <td>30</td>\n",
              "    </tr>\n",
              "    <tr>\n",
              "      <th>2067</th>\n",
              "      <td>276</td>\n",
              "      <td>176</td>\n",
              "      <td>2.0</td>\n",
              "      <td>23</td>\n",
              "      <td>91</td>\n",
              "    </tr>\n",
              "    <tr>\n",
              "      <th>1288</th>\n",
              "      <td>197</td>\n",
              "      <td>142</td>\n",
              "      <td>5.0</td>\n",
              "      <td>148</td>\n",
              "      <td>57</td>\n",
              "    </tr>\n",
              "    <tr>\n",
              "      <th>1738</th>\n",
              "      <td>247</td>\n",
              "      <td>162</td>\n",
              "      <td>3.0</td>\n",
              "      <td>20</td>\n",
              "      <td>77</td>\n",
              "    </tr>\n",
              "    <tr>\n",
              "      <th>2078</th>\n",
              "      <td>109</td>\n",
              "      <td>177</td>\n",
              "      <td>2.0</td>\n",
              "      <td>31</td>\n",
              "      <td>92</td>\n",
              "    </tr>\n",
              "    <tr>\n",
              "      <th>...</th>\n",
              "      <td>...</td>\n",
              "      <td>...</td>\n",
              "      <td>...</td>\n",
              "      <td>...</td>\n",
              "      <td>...</td>\n",
              "    </tr>\n",
              "    <tr>\n",
              "      <th>1638</th>\n",
              "      <td>124</td>\n",
              "      <td>158</td>\n",
              "      <td>3.0</td>\n",
              "      <td>188</td>\n",
              "      <td>73</td>\n",
              "    </tr>\n",
              "    <tr>\n",
              "      <th>1095</th>\n",
              "      <td>260</td>\n",
              "      <td>133</td>\n",
              "      <td>3.0</td>\n",
              "      <td>217</td>\n",
              "      <td>48</td>\n",
              "    </tr>\n",
              "    <tr>\n",
              "      <th>1130</th>\n",
              "      <td>22</td>\n",
              "      <td>135</td>\n",
              "      <td>3.0</td>\n",
              "      <td>224</td>\n",
              "      <td>50</td>\n",
              "    </tr>\n",
              "    <tr>\n",
              "      <th>1294</th>\n",
              "      <td>271</td>\n",
              "      <td>142</td>\n",
              "      <td>5.0</td>\n",
              "      <td>57</td>\n",
              "      <td>57</td>\n",
              "    </tr>\n",
              "    <tr>\n",
              "      <th>860</th>\n",
              "      <td>151</td>\n",
              "      <td>121</td>\n",
              "      <td>1.0</td>\n",
              "      <td>179</td>\n",
              "      <td>36</td>\n",
              "    </tr>\n",
              "  </tbody>\n",
              "</table>\n",
              "<p>2871 rows × 5 columns</p>\n",
              "</div>\n",
              "      <button class=\"colab-df-convert\" onclick=\"convertToInteractive('df-d1d8990b-b318-41e1-b61d-a3b9e1b3fbaa')\"\n",
              "              title=\"Convert this dataframe to an interactive table.\"\n",
              "              style=\"display:none;\">\n",
              "        \n",
              "  <svg xmlns=\"http://www.w3.org/2000/svg\" height=\"24px\"viewBox=\"0 0 24 24\"\n",
              "       width=\"24px\">\n",
              "    <path d=\"M0 0h24v24H0V0z\" fill=\"none\"/>\n",
              "    <path d=\"M18.56 5.44l.94 2.06.94-2.06 2.06-.94-2.06-.94-.94-2.06-.94 2.06-2.06.94zm-11 1L8.5 8.5l.94-2.06 2.06-.94-2.06-.94L8.5 2.5l-.94 2.06-2.06.94zm10 10l.94 2.06.94-2.06 2.06-.94-2.06-.94-.94-2.06-.94 2.06-2.06.94z\"/><path d=\"M17.41 7.96l-1.37-1.37c-.4-.4-.92-.59-1.43-.59-.52 0-1.04.2-1.43.59L10.3 9.45l-7.72 7.72c-.78.78-.78 2.05 0 2.83L4 21.41c.39.39.9.59 1.41.59.51 0 1.02-.2 1.41-.59l7.78-7.78 2.81-2.81c.8-.78.8-2.07 0-2.86zM5.41 20L4 18.59l7.72-7.72 1.47 1.35L5.41 20z\"/>\n",
              "  </svg>\n",
              "      </button>\n",
              "      \n",
              "  <style>\n",
              "    .colab-df-container {\n",
              "      display:flex;\n",
              "      flex-wrap:wrap;\n",
              "      gap: 12px;\n",
              "    }\n",
              "\n",
              "    .colab-df-convert {\n",
              "      background-color: #E8F0FE;\n",
              "      border: none;\n",
              "      border-radius: 50%;\n",
              "      cursor: pointer;\n",
              "      display: none;\n",
              "      fill: #1967D2;\n",
              "      height: 32px;\n",
              "      padding: 0 0 0 0;\n",
              "      width: 32px;\n",
              "    }\n",
              "\n",
              "    .colab-df-convert:hover {\n",
              "      background-color: #E2EBFA;\n",
              "      box-shadow: 0px 1px 2px rgba(60, 64, 67, 0.3), 0px 1px 3px 1px rgba(60, 64, 67, 0.15);\n",
              "      fill: #174EA6;\n",
              "    }\n",
              "\n",
              "    [theme=dark] .colab-df-convert {\n",
              "      background-color: #3B4455;\n",
              "      fill: #D2E3FC;\n",
              "    }\n",
              "\n",
              "    [theme=dark] .colab-df-convert:hover {\n",
              "      background-color: #434B5C;\n",
              "      box-shadow: 0px 1px 3px 1px rgba(0, 0, 0, 0.15);\n",
              "      filter: drop-shadow(0px 1px 2px rgba(0, 0, 0, 0.3));\n",
              "      fill: #FFFFFF;\n",
              "    }\n",
              "  </style>\n",
              "\n",
              "      <script>\n",
              "        const buttonEl =\n",
              "          document.querySelector('#df-d1d8990b-b318-41e1-b61d-a3b9e1b3fbaa button.colab-df-convert');\n",
              "        buttonEl.style.display =\n",
              "          google.colab.kernel.accessAllowed ? 'block' : 'none';\n",
              "\n",
              "        async function convertToInteractive(key) {\n",
              "          const element = document.querySelector('#df-d1d8990b-b318-41e1-b61d-a3b9e1b3fbaa');\n",
              "          const dataTable =\n",
              "            await google.colab.kernel.invokeFunction('convertToInteractive',\n",
              "                                                     [key], {});\n",
              "          if (!dataTable) return;\n",
              "\n",
              "          const docLinkHtml = 'Like what you see? Visit the ' +\n",
              "            '<a target=\"_blank\" href=https://colab.research.google.com/notebooks/data_table.ipynb>data table notebook</a>'\n",
              "            + ' to learn more about interactive tables.';\n",
              "          element.innerHTML = '';\n",
              "          dataTable['output_type'] = 'display_data';\n",
              "          await google.colab.output.renderOutput(dataTable, element);\n",
              "          const docLink = document.createElement('div');\n",
              "          docLink.innerHTML = docLinkHtml;\n",
              "          element.appendChild(docLink);\n",
              "        }\n",
              "      </script>\n",
              "    </div>\n",
              "  </div>\n",
              "  "
            ],
            "text/plain": [
              "      User_Id  Place_Id  Place_Ratings  user  place\n",
              "729       194       115            4.0   130     30\n",
              "2067      276       176            2.0    23     91\n",
              "1288      197       142            5.0   148     57\n",
              "1738      247       162            3.0    20     77\n",
              "2078      109       177            2.0    31     92\n",
              "...       ...       ...            ...   ...    ...\n",
              "1638      124       158            3.0   188     73\n",
              "1095      260       133            3.0   217     48\n",
              "1130       22       135            3.0   224     50\n",
              "1294      271       142            5.0    57     57\n",
              "860       151       121            1.0   179     36\n",
              "\n",
              "[2871 rows x 5 columns]"
            ]
          },
          "metadata": {},
          "execution_count": 154
        }
      ]
    },
    {
      "cell_type": "code",
      "source": [
        "# Membuat variabel x untuk mencocokkan data user dan tempat wisata menjadi satu value\n",
        "x = df[['user', 'place']].values\n",
        " \n",
        "# Membuat variabel y untuk membuat rating dari hasil \n",
        "y = df['Place_Ratings'].apply(lambda x: (x - min_rating) / (max_rating - min_rating)).values\n",
        " \n",
        "# Membagi menjadi 80% data train dan 20% data validasi\n",
        "train_indices = int(0.8 * df.shape[0])\n",
        "x_train, x_val, y_train, y_val = (\n",
        "    x[:train_indices],\n",
        "    x[train_indices:],\n",
        "    y[:train_indices],\n",
        "    y[train_indices:]\n",
        ")\n",
        " \n",
        "print(x, y)"
      ],
      "metadata": {
        "colab": {
          "base_uri": "https://localhost:8080/"
        },
        "id": "4YWQ4GQOSI7Y",
        "outputId": "b08547ca-1ad6-46d0-91f5-1caa98d76614"
      },
      "execution_count": null,
      "outputs": [
        {
          "output_type": "stream",
          "name": "stdout",
          "text": [
            "[[130  30]\n",
            " [ 23  91]\n",
            " [148  57]\n",
            " ...\n",
            " [224  50]\n",
            " [ 57  57]\n",
            " [179  36]] [0.75 0.25 1.   ... 0.5  1.   0.  ]\n"
          ]
        }
      ]
    },
    {
      "cell_type": "markdown",
      "source": [
        "# **MODELLING**\n",
        "\n",
        "1. **Membangun Model Collaborative Filtering dengan deep learning**"
      ],
      "metadata": {
        "id": "SmMVSOztbdky"
      }
    },
    {
      "cell_type": "markdown",
      "source": [
        "Membagi Data Untuk Training dan Validasi"
      ],
      "metadata": {
        "id": "CbMNpbZ5R7xP"
      }
    },
    {
      "cell_type": "markdown",
      "source": [
        "Proses Training"
      ],
      "metadata": {
        "id": "uOEkrmmgSiRd"
      }
    },
    {
      "cell_type": "code",
      "source": [
        "#Import Library tensorflow\n",
        "import tensorflow as tf\n",
        "from tensorflow import keras\n",
        "from tensorflow.keras import layers \n",
        "\n",
        "#Membuat class RecomenderNet\n",
        "class RecommenderNet(tf.keras.Model):\n",
        " \n",
        "  # Insialisasi fungsi\n",
        "  def __init__(self, num_users, num_place, embedding_size, **kwargs):\n",
        "    super(RecommenderNet, self).__init__(**kwargs)\n",
        "    self.num_users = num_users\n",
        "    self.num_place = num_place\n",
        "    self.embedding_size = embedding_size\n",
        "    self.user_embedding = layers.Embedding( # layer embedding user\n",
        "        num_users,\n",
        "        embedding_size,\n",
        "        embeddings_initializer = 'he_normal',\n",
        "        embeddings_regularizer = keras.regularizers.l2(1e-6)\n",
        "    )\n",
        "    self.user_bias = layers.Embedding(num_users, 1) # layer embedding user bias\n",
        "    self.place_embedding = layers.Embedding( # layer embeddings tempat wisata\n",
        "        num_place,\n",
        "        embedding_size,\n",
        "        embeddings_initializer = 'he_normal',\n",
        "        embeddings_regularizer = keras.regularizers.l2(1e-6)\n",
        "    )\n",
        "    self.place_bias = layers.Embedding(num_place, 1) # layer embedding tempat wisata bias\n",
        " \n",
        "  def call(self, inputs):\n",
        "    user_vector = self.user_embedding(inputs[:,0]) # memanggil layer embedding 1\n",
        "    user_bias = self.user_bias(inputs[:, 0]) # memanggil layer embedding 2\n",
        "    place_vector = self.place_embedding(inputs[:, 1]) # memanggil layer embedding 3\n",
        "    place_bias = self.place_bias(inputs[:, 1]) # memanggil layer embedding 4\n",
        " \n",
        "    dot_user_place = tf.tensordot(user_vector, place_vector, 2) \n",
        " \n",
        "    x = dot_user_place + user_bias + place_bias\n",
        "    \n",
        "    return tf.nn.sigmoid(x) # activation sigmoid"
      ],
      "metadata": {
        "id": "rU07m2WBSkYZ"
      },
      "execution_count": null,
      "outputs": []
    },
    {
      "cell_type": "code",
      "source": [
        "#Proses Compile Terhadap Model\n",
        "model = RecommenderNet(num_users, num_place, 50) # inisialisasi model\n",
        " \n",
        "# model compile\n",
        "model.compile(\n",
        "    loss = tf.keras.losses.BinaryCrossentropy(),\n",
        "    optimizer = keras.optimizers.Adam(learning_rate=0.025),\n",
        "    metrics=[tf.keras.metrics.RootMeanSquaredError()]\n",
        ")"
      ],
      "metadata": {
        "id": "WA2oeOCHUGgs"
      },
      "execution_count": null,
      "outputs": []
    },
    {
      "cell_type": "code",
      "source": [
        "class myCallback(tf.keras.callbacks.Callback):\n",
        "  def on_epoch_end(self, epoch, logs={}):\n",
        "    if(logs.get('accuracy') > 0.97):\n",
        "      print(\"\\nAkurasi telah mencapai >97%. Stop training!\")\n",
        "      self.model.stop_training = True\n",
        "callbacks = myCallback()"
      ],
      "metadata": {
        "id": "gXQuGgwOhkKp"
      },
      "execution_count": null,
      "outputs": []
    },
    {
      "cell_type": "code",
      "source": [
        "# Memulai training\n",
        "history = model.fit(\n",
        "    x = x_train,\n",
        "    y = y_train,\n",
        "    batch_size = 8,\n",
        "    epochs = 100,\n",
        "    validation_data = (x_val, y_val)\n",
        ")"
      ],
      "metadata": {
        "colab": {
          "base_uri": "https://localhost:8080/"
        },
        "id": "l5Pw-CSFU_lD",
        "outputId": "a43e9ed2-eeb3-4aa5-e64a-0ac27666e499"
      },
      "execution_count": null,
      "outputs": [
        {
          "output_type": "stream",
          "name": "stdout",
          "text": [
            "Epoch 1/100\n",
            "287/287 [==============================] - 3s 6ms/step - loss: 1.2458 - root_mean_squared_error: 0.4622 - val_loss: 2.4419 - val_root_mean_squared_error: 0.5489\n",
            "Epoch 2/100\n",
            "287/287 [==============================] - 2s 8ms/step - loss: 4.8046 - root_mean_squared_error: 0.5764 - val_loss: 4.3004 - val_root_mean_squared_error: 0.5677\n",
            "Epoch 3/100\n",
            "287/287 [==============================] - 2s 8ms/step - loss: 7.4185 - root_mean_squared_error: 0.5787 - val_loss: 5.0211 - val_root_mean_squared_error: 0.5869\n",
            "Epoch 4/100\n",
            "287/287 [==============================] - 2s 7ms/step - loss: 8.0969 - root_mean_squared_error: 0.5795 - val_loss: 4.7947 - val_root_mean_squared_error: 0.5584\n",
            "Epoch 5/100\n",
            "287/287 [==============================] - 2s 8ms/step - loss: 8.6608 - root_mean_squared_error: 0.5799 - val_loss: 4.3819 - val_root_mean_squared_error: 0.5623\n",
            "Epoch 6/100\n",
            "287/287 [==============================] - 2s 7ms/step - loss: 7.8267 - root_mean_squared_error: 0.5799 - val_loss: 4.2053 - val_root_mean_squared_error: 0.5414\n",
            "Epoch 7/100\n",
            "287/287 [==============================] - 3s 9ms/step - loss: 7.5294 - root_mean_squared_error: 0.5748 - val_loss: 4.5199 - val_root_mean_squared_error: 0.5650\n",
            "Epoch 8/100\n",
            "287/287 [==============================] - 2s 7ms/step - loss: 7.7054 - root_mean_squared_error: 0.5697 - val_loss: 4.4417 - val_root_mean_squared_error: 0.5862\n",
            "Epoch 9/100\n",
            "287/287 [==============================] - 2s 7ms/step - loss: 7.0296 - root_mean_squared_error: 0.5705 - val_loss: 4.1096 - val_root_mean_squared_error: 0.5685\n",
            "Epoch 10/100\n",
            "287/287 [==============================] - 2s 9ms/step - loss: 7.9463 - root_mean_squared_error: 0.5865 - val_loss: 4.1538 - val_root_mean_squared_error: 0.5657\n",
            "Epoch 11/100\n",
            "287/287 [==============================] - 2s 7ms/step - loss: 6.5072 - root_mean_squared_error: 0.5579 - val_loss: 4.6636 - val_root_mean_squared_error: 0.5501\n",
            "Epoch 12/100\n",
            "287/287 [==============================] - 3s 9ms/step - loss: 7.0658 - root_mean_squared_error: 0.5691 - val_loss: 4.2613 - val_root_mean_squared_error: 0.5633\n",
            "Epoch 13/100\n",
            "287/287 [==============================] - 2s 8ms/step - loss: 6.6749 - root_mean_squared_error: 0.5614 - val_loss: 4.3743 - val_root_mean_squared_error: 0.5548\n",
            "Epoch 14/100\n",
            "287/287 [==============================] - 2s 8ms/step - loss: 6.0236 - root_mean_squared_error: 0.5661 - val_loss: 3.7550 - val_root_mean_squared_error: 0.5462\n",
            "Epoch 15/100\n",
            "287/287 [==============================] - 2s 7ms/step - loss: 6.5236 - root_mean_squared_error: 0.5644 - val_loss: 4.3424 - val_root_mean_squared_error: 0.5852\n",
            "Epoch 16/100\n",
            "287/287 [==============================] - 2s 6ms/step - loss: 6.4554 - root_mean_squared_error: 0.5668 - val_loss: 3.7640 - val_root_mean_squared_error: 0.5715\n",
            "Epoch 17/100\n",
            "287/287 [==============================] - 2s 7ms/step - loss: 6.5856 - root_mean_squared_error: 0.5571 - val_loss: 3.3420 - val_root_mean_squared_error: 0.5612\n",
            "Epoch 18/100\n",
            "287/287 [==============================] - 3s 10ms/step - loss: 5.7154 - root_mean_squared_error: 0.5593 - val_loss: 3.4359 - val_root_mean_squared_error: 0.5709\n",
            "Epoch 19/100\n",
            "287/287 [==============================] - 2s 6ms/step - loss: 5.7102 - root_mean_squared_error: 0.5422 - val_loss: 3.0212 - val_root_mean_squared_error: 0.5498\n",
            "Epoch 20/100\n",
            "287/287 [==============================] - 2s 7ms/step - loss: 5.7681 - root_mean_squared_error: 0.5674 - val_loss: 3.2773 - val_root_mean_squared_error: 0.5477\n",
            "Epoch 21/100\n",
            "287/287 [==============================] - 2s 7ms/step - loss: 5.3967 - root_mean_squared_error: 0.5548 - val_loss: 2.7903 - val_root_mean_squared_error: 0.5494\n",
            "Epoch 22/100\n",
            "287/287 [==============================] - 2s 7ms/step - loss: 4.8327 - root_mean_squared_error: 0.5673 - val_loss: 2.7280 - val_root_mean_squared_error: 0.5286\n",
            "Epoch 23/100\n",
            "287/287 [==============================] - 2s 6ms/step - loss: 3.8575 - root_mean_squared_error: 0.5351 - val_loss: 2.2699 - val_root_mean_squared_error: 0.5314\n",
            "Epoch 24/100\n",
            "287/287 [==============================] - 2s 7ms/step - loss: 2.9430 - root_mean_squared_error: 0.5293 - val_loss: 2.2738 - val_root_mean_squared_error: 0.5272\n",
            "Epoch 25/100\n",
            "287/287 [==============================] - 1s 5ms/step - loss: 2.6131 - root_mean_squared_error: 0.5087 - val_loss: 2.1285 - val_root_mean_squared_error: 0.5308\n",
            "Epoch 26/100\n",
            "287/287 [==============================] - 2s 6ms/step - loss: 2.4039 - root_mean_squared_error: 0.5153 - val_loss: 2.1410 - val_root_mean_squared_error: 0.5229\n",
            "Epoch 27/100\n",
            "287/287 [==============================] - 1s 3ms/step - loss: 2.2481 - root_mean_squared_error: 0.4864 - val_loss: 2.0149 - val_root_mean_squared_error: 0.5282\n",
            "Epoch 28/100\n",
            "287/287 [==============================] - 1s 3ms/step - loss: 2.1859 - root_mean_squared_error: 0.5011 - val_loss: 1.9979 - val_root_mean_squared_error: 0.5199\n",
            "Epoch 29/100\n",
            "287/287 [==============================] - 1s 3ms/step - loss: 2.4499 - root_mean_squared_error: 0.4917 - val_loss: 2.2853 - val_root_mean_squared_error: 0.5387\n",
            "Epoch 30/100\n",
            "287/287 [==============================] - 1s 3ms/step - loss: 3.2001 - root_mean_squared_error: 0.5368 - val_loss: 3.6369 - val_root_mean_squared_error: 0.5478\n",
            "Epoch 31/100\n",
            "287/287 [==============================] - 1s 3ms/step - loss: 4.8673 - root_mean_squared_error: 0.5435 - val_loss: 4.7527 - val_root_mean_squared_error: 0.5750\n",
            "Epoch 32/100\n",
            "287/287 [==============================] - 1s 3ms/step - loss: 7.3176 - root_mean_squared_error: 0.5879 - val_loss: 5.2327 - val_root_mean_squared_error: 0.5551\n",
            "Epoch 33/100\n",
            "287/287 [==============================] - 1s 4ms/step - loss: 9.3176 - root_mean_squared_error: 0.5564 - val_loss: 5.8719 - val_root_mean_squared_error: 0.5933\n",
            "Epoch 34/100\n",
            "287/287 [==============================] - 1s 4ms/step - loss: 10.5410 - root_mean_squared_error: 0.6005 - val_loss: 5.8068 - val_root_mean_squared_error: 0.5675\n",
            "Epoch 35/100\n",
            "287/287 [==============================] - 1s 3ms/step - loss: 10.4141 - root_mean_squared_error: 0.5533 - val_loss: 4.0159 - val_root_mean_squared_error: 0.5555\n",
            "Epoch 36/100\n",
            "287/287 [==============================] - 1s 3ms/step - loss: 8.9817 - root_mean_squared_error: 0.5950 - val_loss: 4.2051 - val_root_mean_squared_error: 0.5575\n",
            "Epoch 37/100\n",
            "287/287 [==============================] - 1s 2ms/step - loss: 7.5870 - root_mean_squared_error: 0.5553 - val_loss: 3.4364 - val_root_mean_squared_error: 0.5657\n",
            "Epoch 38/100\n",
            "287/287 [==============================] - 1s 3ms/step - loss: 6.2507 - root_mean_squared_error: 0.5714 - val_loss: 3.1382 - val_root_mean_squared_error: 0.5447\n",
            "Epoch 39/100\n",
            "287/287 [==============================] - 1s 3ms/step - loss: 4.9160 - root_mean_squared_error: 0.5316 - val_loss: 3.0429 - val_root_mean_squared_error: 0.5554\n",
            "Epoch 40/100\n",
            "287/287 [==============================] - 1s 3ms/step - loss: 3.9789 - root_mean_squared_error: 0.5507 - val_loss: 2.7042 - val_root_mean_squared_error: 0.5470\n",
            "Epoch 41/100\n",
            "287/287 [==============================] - 1s 4ms/step - loss: 3.6562 - root_mean_squared_error: 0.5260 - val_loss: 2.4155 - val_root_mean_squared_error: 0.5348\n",
            "Epoch 42/100\n",
            "287/287 [==============================] - 1s 4ms/step - loss: 2.7030 - root_mean_squared_error: 0.5173 - val_loss: 2.4197 - val_root_mean_squared_error: 0.5244\n",
            "Epoch 43/100\n",
            "287/287 [==============================] - 1s 4ms/step - loss: 2.4130 - root_mean_squared_error: 0.4903 - val_loss: 2.1706 - val_root_mean_squared_error: 0.5367\n",
            "Epoch 44/100\n",
            "287/287 [==============================] - 1s 4ms/step - loss: 2.0520 - root_mean_squared_error: 0.4938 - val_loss: 2.2319 - val_root_mean_squared_error: 0.5207\n",
            "Epoch 45/100\n",
            "287/287 [==============================] - 1s 4ms/step - loss: 1.9978 - root_mean_squared_error: 0.4775 - val_loss: 1.9396 - val_root_mean_squared_error: 0.5209\n",
            "Epoch 46/100\n",
            "287/287 [==============================] - 1s 4ms/step - loss: 2.0851 - root_mean_squared_error: 0.4982 - val_loss: 2.3291 - val_root_mean_squared_error: 0.5345\n",
            "Epoch 47/100\n",
            "287/287 [==============================] - 1s 4ms/step - loss: 2.6002 - root_mean_squared_error: 0.5044 - val_loss: 2.6614 - val_root_mean_squared_error: 0.5458\n",
            "Epoch 48/100\n",
            "287/287 [==============================] - 1s 4ms/step - loss: 3.9864 - root_mean_squared_error: 0.5502 - val_loss: 4.1497 - val_root_mean_squared_error: 0.5743\n",
            "Epoch 49/100\n",
            "287/287 [==============================] - 1s 4ms/step - loss: 5.7758 - root_mean_squared_error: 0.5561 - val_loss: 5.6904 - val_root_mean_squared_error: 0.5668\n",
            "Epoch 50/100\n",
            "287/287 [==============================] - 1s 4ms/step - loss: 9.6939 - root_mean_squared_error: 0.5953 - val_loss: 5.1860 - val_root_mean_squared_error: 0.5703\n",
            "Epoch 51/100\n",
            "287/287 [==============================] - 1s 4ms/step - loss: 10.9538 - root_mean_squared_error: 0.5663 - val_loss: 4.6522 - val_root_mean_squared_error: 0.5725\n",
            "Epoch 52/100\n",
            "287/287 [==============================] - 1s 4ms/step - loss: 11.3366 - root_mean_squared_error: 0.5877 - val_loss: 4.6038 - val_root_mean_squared_error: 0.5657\n",
            "Epoch 53/100\n",
            "287/287 [==============================] - 1s 4ms/step - loss: 9.0755 - root_mean_squared_error: 0.5574 - val_loss: 3.7473 - val_root_mean_squared_error: 0.5505\n",
            "Epoch 54/100\n",
            "287/287 [==============================] - 1s 3ms/step - loss: 7.8642 - root_mean_squared_error: 0.5906 - val_loss: 3.6569 - val_root_mean_squared_error: 0.5497\n",
            "Epoch 55/100\n",
            "287/287 [==============================] - 1s 3ms/step - loss: 6.3962 - root_mean_squared_error: 0.5524 - val_loss: 3.0461 - val_root_mean_squared_error: 0.5496\n",
            "Epoch 56/100\n",
            "287/287 [==============================] - 1s 3ms/step - loss: 5.3837 - root_mean_squared_error: 0.5730 - val_loss: 3.1153 - val_root_mean_squared_error: 0.5561\n",
            "Epoch 57/100\n",
            "287/287 [==============================] - 1s 3ms/step - loss: 4.4796 - root_mean_squared_error: 0.5350 - val_loss: 3.1131 - val_root_mean_squared_error: 0.5629\n",
            "Epoch 58/100\n",
            "287/287 [==============================] - 1s 3ms/step - loss: 3.3172 - root_mean_squared_error: 0.5291 - val_loss: 2.6567 - val_root_mean_squared_error: 0.5430\n",
            "Epoch 59/100\n",
            "287/287 [==============================] - 1s 4ms/step - loss: 3.0954 - root_mean_squared_error: 0.5150 - val_loss: 2.5424 - val_root_mean_squared_error: 0.5491\n",
            "Epoch 60/100\n",
            "287/287 [==============================] - 1s 5ms/step - loss: 2.6483 - root_mean_squared_error: 0.5198 - val_loss: 2.4695 - val_root_mean_squared_error: 0.5257\n",
            "Epoch 61/100\n",
            "287/287 [==============================] - 1s 4ms/step - loss: 2.3847 - root_mean_squared_error: 0.4897 - val_loss: 2.1887 - val_root_mean_squared_error: 0.5261\n",
            "Epoch 62/100\n",
            "287/287 [==============================] - 1s 3ms/step - loss: 2.1749 - root_mean_squared_error: 0.5020 - val_loss: 2.0977 - val_root_mean_squared_error: 0.5137\n",
            "Epoch 63/100\n",
            "287/287 [==============================] - 1s 3ms/step - loss: 2.2327 - root_mean_squared_error: 0.4838 - val_loss: 2.2598 - val_root_mean_squared_error: 0.5413\n",
            "Epoch 64/100\n",
            "287/287 [==============================] - 1s 3ms/step - loss: 2.2363 - root_mean_squared_error: 0.5047 - val_loss: 2.4400 - val_root_mean_squared_error: 0.5446\n",
            "Epoch 65/100\n",
            "287/287 [==============================] - 1s 4ms/step - loss: 2.9592 - root_mean_squared_error: 0.5240 - val_loss: 3.5378 - val_root_mean_squared_error: 0.5678\n",
            "Epoch 66/100\n",
            "287/287 [==============================] - 1s 4ms/step - loss: 4.4689 - root_mean_squared_error: 0.5631 - val_loss: 5.1576 - val_root_mean_squared_error: 0.5663\n",
            "Epoch 67/100\n",
            "287/287 [==============================] - 1s 4ms/step - loss: 7.4068 - root_mean_squared_error: 0.5563 - val_loss: 5.2118 - val_root_mean_squared_error: 0.5778\n",
            "Epoch 68/100\n",
            "287/287 [==============================] - 1s 4ms/step - loss: 8.9561 - root_mean_squared_error: 0.5805 - val_loss: 6.4854 - val_root_mean_squared_error: 0.5755\n",
            "Epoch 69/100\n",
            "287/287 [==============================] - 1s 4ms/step - loss: 9.9301 - root_mean_squared_error: 0.5645 - val_loss: 5.8390 - val_root_mean_squared_error: 0.5805\n",
            "Epoch 70/100\n",
            "287/287 [==============================] - 1s 4ms/step - loss: 10.1439 - root_mean_squared_error: 0.5837 - val_loss: 4.6276 - val_root_mean_squared_error: 0.5514\n",
            "Epoch 71/100\n",
            "287/287 [==============================] - 1s 4ms/step - loss: 8.1827 - root_mean_squared_error: 0.5530 - val_loss: 3.9119 - val_root_mean_squared_error: 0.5760\n",
            "Epoch 72/100\n",
            "287/287 [==============================] - 1s 3ms/step - loss: 7.5896 - root_mean_squared_error: 0.5883 - val_loss: 3.3536 - val_root_mean_squared_error: 0.5504\n",
            "Epoch 73/100\n",
            "287/287 [==============================] - 1s 3ms/step - loss: 6.0602 - root_mean_squared_error: 0.5402 - val_loss: 2.7889 - val_root_mean_squared_error: 0.5377\n",
            "Epoch 74/100\n",
            "287/287 [==============================] - 1s 3ms/step - loss: 4.1881 - root_mean_squared_error: 0.5402 - val_loss: 2.7870 - val_root_mean_squared_error: 0.5376\n",
            "Epoch 75/100\n",
            "287/287 [==============================] - 1s 4ms/step - loss: 3.7205 - root_mean_squared_error: 0.5228 - val_loss: 2.6685 - val_root_mean_squared_error: 0.5350\n",
            "Epoch 76/100\n",
            "287/287 [==============================] - 1s 4ms/step - loss: 3.1094 - root_mean_squared_error: 0.5292 - val_loss: 2.5533 - val_root_mean_squared_error: 0.5254\n",
            "Epoch 77/100\n",
            "287/287 [==============================] - 1s 4ms/step - loss: 2.8376 - root_mean_squared_error: 0.5019 - val_loss: 2.3641 - val_root_mean_squared_error: 0.5310\n",
            "Epoch 78/100\n",
            "287/287 [==============================] - 1s 3ms/step - loss: 2.3381 - root_mean_squared_error: 0.5029 - val_loss: 2.3429 - val_root_mean_squared_error: 0.5345\n",
            "Epoch 79/100\n",
            "287/287 [==============================] - 1s 4ms/step - loss: 2.2483 - root_mean_squared_error: 0.4810 - val_loss: 2.2719 - val_root_mean_squared_error: 0.5326\n",
            "Epoch 80/100\n",
            "287/287 [==============================] - 1s 5ms/step - loss: 2.2689 - root_mean_squared_error: 0.5028 - val_loss: 2.3677 - val_root_mean_squared_error: 0.5329\n",
            "Epoch 81/100\n",
            "287/287 [==============================] - 1s 4ms/step - loss: 2.5478 - root_mean_squared_error: 0.5059 - val_loss: 2.5522 - val_root_mean_squared_error: 0.5393\n",
            "Epoch 82/100\n",
            "287/287 [==============================] - 1s 4ms/step - loss: 3.4434 - root_mean_squared_error: 0.5332 - val_loss: 3.2785 - val_root_mean_squared_error: 0.5420\n",
            "Epoch 83/100\n",
            "287/287 [==============================] - 1s 5ms/step - loss: 4.8427 - root_mean_squared_error: 0.5493 - val_loss: 3.8961 - val_root_mean_squared_error: 0.5611\n",
            "Epoch 84/100\n",
            "287/287 [==============================] - 2s 6ms/step - loss: 7.0362 - root_mean_squared_error: 0.5626 - val_loss: 5.2480 - val_root_mean_squared_error: 0.5660\n",
            "Epoch 85/100\n",
            "287/287 [==============================] - 2s 5ms/step - loss: 8.5471 - root_mean_squared_error: 0.5674 - val_loss: 5.5967 - val_root_mean_squared_error: 0.5895\n",
            "Epoch 86/100\n",
            "287/287 [==============================] - 1s 4ms/step - loss: 9.2339 - root_mean_squared_error: 0.5804 - val_loss: 6.3333 - val_root_mean_squared_error: 0.5895\n",
            "Epoch 87/100\n",
            "287/287 [==============================] - 2s 9ms/step - loss: 9.5724 - root_mean_squared_error: 0.5664 - val_loss: 4.1223 - val_root_mean_squared_error: 0.5698\n",
            "Epoch 88/100\n",
            "287/287 [==============================] - 1s 4ms/step - loss: 8.3973 - root_mean_squared_error: 0.5925 - val_loss: 3.8087 - val_root_mean_squared_error: 0.5492\n",
            "Epoch 89/100\n",
            "287/287 [==============================] - 1s 4ms/step - loss: 6.9992 - root_mean_squared_error: 0.5586 - val_loss: 3.6838 - val_root_mean_squared_error: 0.5694\n",
            "Epoch 90/100\n",
            "287/287 [==============================] - 2s 5ms/step - loss: 4.9421 - root_mean_squared_error: 0.5649 - val_loss: 2.7192 - val_root_mean_squared_error: 0.5320\n",
            "Epoch 91/100\n",
            "287/287 [==============================] - 1s 4ms/step - loss: 4.1398 - root_mean_squared_error: 0.5301 - val_loss: 2.6800 - val_root_mean_squared_error: 0.5545\n",
            "Epoch 92/100\n",
            "287/287 [==============================] - 1s 3ms/step - loss: 3.0493 - root_mean_squared_error: 0.5244 - val_loss: 2.3538 - val_root_mean_squared_error: 0.5290\n",
            "Epoch 93/100\n",
            "287/287 [==============================] - 1s 3ms/step - loss: 2.6248 - root_mean_squared_error: 0.4939 - val_loss: 2.2128 - val_root_mean_squared_error: 0.5299\n",
            "Epoch 94/100\n",
            "287/287 [==============================] - 1s 3ms/step - loss: 2.1957 - root_mean_squared_error: 0.4998 - val_loss: 2.1822 - val_root_mean_squared_error: 0.5094\n",
            "Epoch 95/100\n",
            "287/287 [==============================] - 1s 3ms/step - loss: 2.1140 - root_mean_squared_error: 0.4800 - val_loss: 2.0645 - val_root_mean_squared_error: 0.5186\n",
            "Epoch 96/100\n",
            "287/287 [==============================] - 1s 4ms/step - loss: 1.9627 - root_mean_squared_error: 0.4845 - val_loss: 2.0428 - val_root_mean_squared_error: 0.5011\n",
            "Epoch 97/100\n",
            "287/287 [==============================] - 1s 3ms/step - loss: 2.0153 - root_mean_squared_error: 0.4800 - val_loss: 2.0879 - val_root_mean_squared_error: 0.5296\n",
            "Epoch 98/100\n",
            "287/287 [==============================] - 1s 3ms/step - loss: 2.2508 - root_mean_squared_error: 0.4994 - val_loss: 2.5672 - val_root_mean_squared_error: 0.5348\n",
            "Epoch 99/100\n",
            "287/287 [==============================] - 1s 3ms/step - loss: 3.6726 - root_mean_squared_error: 0.5450 - val_loss: 3.6068 - val_root_mean_squared_error: 0.5599\n",
            "Epoch 100/100\n",
            "287/287 [==============================] - 1s 3ms/step - loss: 6.7079 - root_mean_squared_error: 0.5705 - val_loss: 5.8899 - val_root_mean_squared_error: 0.5684\n"
          ]
        }
      ]
    },
    {
      "cell_type": "markdown",
      "source": [
        "# **EVALUATION**"
      ],
      "metadata": {
        "id": "qmVSm6_WbnBc"
      }
    },
    {
      "cell_type": "code",
      "source": [
        "#Visualisasi Metrik\n",
        "plt.plot(history.history['root_mean_squared_error'])\n",
        "plt.plot(history.history['val_root_mean_squared_error'])\n",
        "plt.title('model_metrics')\n",
        "plt.ylabel('root_mean_squared_error')\n",
        "plt.xlabel('epoch')\n",
        "plt.legend(['train', 'test'], loc='upper left')\n",
        "plt.show()"
      ],
      "metadata": {
        "colab": {
          "base_uri": "https://localhost:8080/",
          "height": 295
        },
        "id": "8XZT0_qdViid",
        "outputId": "897b8ec4-2682-4d08-bbdc-8d24288605e2"
      },
      "execution_count": null,
      "outputs": [
        {
          "output_type": "display_data",
          "data": {
            "image/png": "[encoded data removed]",
            "text/plain": [
              "<Figure size 432x288 with 1 Axes>"
            ]
          },
          "metadata": {
            "needs_background": "light"
          }
        }
      ]
    },
    {
      "cell_type": "markdown",
      "source": [
        "# **UJI MODEL**"
      ],
      "metadata": {
        "id": "3naCKSMRbtUG"
      }
    },
    {
      "cell_type": "code",
      "source": [
        "# Menyiapkan dataframe\n",
        "place_df = wisata[['Place_Id','Place_Name','Category','Rating','Price']]\n",
        "place_df.columns = ['id','place_name','category','rating','price']\n",
        "df = rating.copy()"
      ],
      "metadata": {
        "id": "RKGE5HjBV3vV"
      },
      "execution_count": null,
      "outputs": []
    },
    {
      "cell_type": "code",
      "source": [
        "# Mengambil sample user\n",
        "user_id = df.User_Id.sample(1).iloc[0]\n",
        "place_visited_by_user = df[df.User_Id == user_id]"
      ],
      "metadata": {
        "id": "Vd4uPrYRWS8z"
      },
      "execution_count": null,
      "outputs": []
    },
    {
      "cell_type": "code",
      "source": [
        "# Membuat data lokasi yang belum dikunjungi user\n",
        "place_not_visited = place_df[~place_df['id'].isin(place_visited_by_user.Place_Id.values)]['id'] \n",
        "place_not_visited = list(\n",
        "    set(place_not_visited)\n",
        "    .intersection(set(place_to_place_encoded.keys()))\n",
        ")\n",
        " \n",
        "place_not_visited = [[place_to_place_encoded.get(x)] for x in place_not_visited]\n",
        "user_encoder = user_to_user_encoded.get(user_id)\n",
        "user_place_array = np.hstack(\n",
        "    ([[user_encoder]] * len(place_not_visited), place_not_visited)\n",
        ")"
      ],
      "metadata": {
        "id": "92tLuMhcWi1c"
      },
      "execution_count": null,
      "outputs": []
    },
    {
      "cell_type": "code",
      "source": [
        "# Mengambil top 7 recommendation\n",
        "ratings = model.predict(user_place_array).flatten()\n",
        "top_ratings_indices = ratings.argsort()[-7:][::-1]\n",
        "recommended_place_ids = [\n",
        "    place_encoded_to_place.get(place_not_visited[x][0]) for x in top_ratings_indices\n",
        "]\n",
        " \n",
        "print('Daftar rekomendasi untuk: {}'.format('User ' + str(user_id)))\n",
        "print('===' * 15,'\\n')\n",
        "print('----' * 15)\n",
        "print('Tempat dengan rating wisata paling tinggi dari user')\n",
        "print('----' * 15)\n",
        " \n",
        "top_place_user = (\n",
        "    place_visited_by_user.sort_values(\n",
        "        by = 'Place_Ratings',\n",
        "        ascending=False\n",
        "    )\n",
        "    .head(5)\n",
        "    .Place_Id.values\n",
        ")\n",
        " \n",
        "place_df_rows = place_df[place_df['id'].isin(top_place_user)]\n",
        "for row in place_df_rows.itertuples():\n",
        "    print(row.place_name, ':', row.category)\n",
        "\n",
        "print('')\n",
        "print('----' * 15)\n",
        "print('7 Tempat Rekomendasi')\n",
        "print('----' * 15)\n",
        "\n",
        "recommended_place = place_df[place_df['id'].isin(recommended_place_ids)]\n",
        "for row, i in zip(recommended_place.itertuples(), range(1,8)):\n",
        "    print(i,'.', row.place_name, '\\n    ', row.category, ',', 'Harga Tiket Masuk ', row.price, ',', 'Rating Wisata ', row.rating,'\\n')\n",
        "\n",
        "print('==='*15)"
      ],
      "metadata": {
        "colab": {
          "base_uri": "https://localhost:8080/"
        },
        "id": "5D-TFyA1Wx7g",
        "outputId": "8a9d3d91-c4e4-48b3-ffea-c667c2cf1e82"
      },
      "execution_count": null,
      "outputs": [
        {
          "output_type": "stream",
          "name": "stdout",
          "text": [
            "Daftar rekomendasi untuk: User 189\n",
            "============================================= \n",
            "\n",
            "------------------------------------------------------------\n",
            "Tempat dengan rating wisata paling tinggi dari user\n",
            "------------------------------------------------------------\n",
            "Embung Tambakboyo : Taman Hiburan\n",
            "Monumen Sanapati : Budaya\n",
            "Pantai Ngobaran : Bahari\n",
            "Pantai Siung : Bahari\n",
            "Pantai Kesirat : Bahari\n",
            "\n",
            "------------------------------------------------------------\n",
            "7 Tempat Rekomendasi\n",
            "------------------------------------------------------------\n",
            "1 . Bunker Kaliadem Merapi \n",
            "     Cagar Alam , Harga Tiket Masuk  3000 , Rating Wisata  4.5 \n",
            "\n",
            "2 . Bentara Budaya Yogyakarta (BBY) \n",
            "     Budaya , Harga Tiket Masuk  0 , Rating Wisata  4.5 \n",
            "\n",
            "3 . Goa Rancang Kencono \n",
            "     Cagar Alam , Harga Tiket Masuk  5000 , Rating Wisata  4.3 \n",
            "\n",
            "4 . Goa Cerme \n",
            "     Cagar Alam , Harga Tiket Masuk  3000 , Rating Wisata  4.4 \n",
            "\n",
            "5 . Wisata Kraton Jogja \n",
            "     Budaya , Harga Tiket Masuk  7000 , Rating Wisata  4.7 \n",
            "\n",
            "6 . Desa Wisata Kelor \n",
            "     Taman Hiburan , Harga Tiket Masuk  0 , Rating Wisata  4.4 \n",
            "\n",
            "7 . Pantai Pulang Sawal \n",
            "     Bahari , Harga Tiket Masuk  10000 , Rating Wisata  4.5 \n",
            "\n",
            "=============================================\n"
          ]
        }
      ]
    }
  ],
  "metadata": {
    "colab": {
      "collapsed_sections": [],
      "name": "Sistem Rekomendasi Pariwisata Yogyakarta.ipynb",
      "provenance": [],
      "authorship_tag": "ABX9TyNbq+2+iVWIufHH29q3urhC",
      "include_colab_link": true
    },
    "kernelspec": {
      "display_name": "Python 3",
      "name": "python3"
    },
    "language_info": {
      "name": "python"
    }
  },
  "nbformat": 4,
  "nbformat_minor": 0
}